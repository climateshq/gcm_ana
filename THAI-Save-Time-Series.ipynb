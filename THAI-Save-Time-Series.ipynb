{
 "cells": [
  {
   "cell_type": "markdown",
   "id": "abstract-feelings",
   "metadata": {},
   "source": [
    "# Save time series of spatially collapsed diagnostics"
   ]
  },
  {
   "cell_type": "code",
   "execution_count": null,
   "id": "incident-travel",
   "metadata": {},
   "outputs": [],
   "source": [
    "import warnings\n",
    "\n",
    "warnings.filterwarnings(\"ignore\")  # noqa"
   ]
  },
  {
   "cell_type": "code",
   "execution_count": null,
   "id": "focused-yahoo",
   "metadata": {},
   "outputs": [],
   "source": [
    "# Data analysis and viz libraries\n",
    "import dask\n",
    "import numpy as np\n",
    "import xarray as xr\n",
    "from dask.distributed import Client\n",
    "\n",
    "# Progress bar\n",
    "from tqdm.notebook import tqdm"
   ]
  },
  {
   "cell_type": "code",
   "execution_count": null,
   "id": "handed-deposit",
   "metadata": {},
   "outputs": [],
   "source": [
    "# Local modules\n",
    "import mypaths\n",
    "import names\n",
    "from calc import (\n",
    "    altitude_of_cloud_mmr_maximum,\n",
    "    cloud_path_total,\n",
    "    dayside_mean,\n",
    "    get_time_rel_days,\n",
    "    global_mean,\n",
    "    meridional_mean,\n",
    "    nightside_mean,\n",
    "    open_ocean_frac,\n",
    "    sfc_temp,\n",
    "    spatial_mean,\n",
    "    terminator_mean,\n",
    ")\n",
    "from commons import MODELS\n",
    "from load_thai import LOAD_CONF\n",
    "from model_exocam import calc_alt_exocam, calc_pres_exocam\n",
    "from model_lmdg import calc_alt_lmdg"
   ]
  },
  {
   "cell_type": "markdown",
   "id": "rolled-wages",
   "metadata": {},
   "source": [
    "Start a local `dask` cluster."
   ]
  },
  {
   "cell_type": "code",
   "execution_count": null,
   "id": "automotive-vacation",
   "metadata": {},
   "outputs": [],
   "source": [
    "client = Client(processes=True, n_workers=4, threads_per_worker=1)\n",
    "client"
   ]
  },
  {
   "cell_type": "markdown",
   "id": "cathedral-milwaukee",
   "metadata": {},
   "source": [
    "## Choose case"
   ]
  },
  {
   "cell_type": "code",
   "execution_count": null,
   "id": "cooperative-lesson",
   "metadata": {},
   "outputs": [],
   "source": [
    "THAI_case = \"Hab2\""
   ]
  },
  {
   "cell_type": "code",
   "execution_count": null,
   "id": "studied-scratch",
   "metadata": {},
   "outputs": [],
   "source": [
    "if THAI_case.endswith(\"1\"):\n",
    "    import const_ben1_hab1 as const\n",
    "else:\n",
    "    import const_ben2_hab2 as const\n",
    "\n",
    "KW_CONST = dict(\n",
    "    mw_ratio=const.mw_ratio,\n",
    "    dry_air_gas_constant=const.rgas,\n",
    "    condens_gas_constant=const.rvapor,\n",
    "    gravity=const.gplanet,\n",
    ")"
   ]
  },
  {
   "cell_type": "code",
   "execution_count": null,
   "id": "811465b4-6535-4f1b-b02a-64ad39b343d1",
   "metadata": {},
   "outputs": [],
   "source": [
    "AGGR_DICT = dict(g=global_mean, d=dayside_mean, n=nightside_mean, t=terminator_mean)"
   ]
  },
  {
   "cell_type": "code",
   "execution_count": null,
   "id": "ba504924-37bb-41bd-91ff-d739de9ce628",
   "metadata": {},
   "outputs": [],
   "source": [
    "DIAGS = {\n",
    "    \"t_sfc\": {\n",
    "        \"func\": sfc_temp,\n",
    "    },\n",
    "    \"ocean_frac\": {\n",
    "        \"func\": open_ocean_frac,\n",
    "    },\n",
    "    \"cwp\": {\n",
    "        \"func\": cloud_path_total,\n",
    "    },\n",
    "    \"alt_cld_mmr_max\": {\n",
    "        \"func\": altitude_of_cloud_mmr_maximum,\n",
    "    },\n",
    "}"
   ]
  },
  {
   "cell_type": "code",
   "execution_count": null,
   "id": "23007d40-f6c5-4620-a90d-5bac0186f3c0",
   "metadata": {
    "tags": []
   },
   "outputs": [],
   "source": [
    "for model_key in tqdm(MODELS.keys()):\n",
    "    model_names = getattr(names, model_key.lower())\n",
    "    with LOAD_CONF[model_key][\"loader\"](THAI_case) as ds:\n",
    "        if model_key == \"ExoCAM\":\n",
    "            ds[model_names.pres] = calc_pres_exocam(ds)\n",
    "            ds[\"z\"] = calc_alt_exocam(ds, case=THAI_case, **KW_CONST)\n",
    "        elif model_key == \"LMDG\":\n",
    "            ds[\"level_height\"] = calc_alt_lmdg(ds, case=THAI_case, **KW_CONST)\n",
    "\n",
    "        ds_out = {}\n",
    "        for diag_key, diag_dict in tqdm(DIAGS.items(), leave=False):\n",
    "            if diag_key == \"t_sfc\":\n",
    "                args = (ds, model_key, const)\n",
    "            else:\n",
    "                args = (ds, model_key)\n",
    "            _arr = diag_dict[\"func\"](*args)\n",
    "            for aggr_key, aggr_func in tqdm(AGGR_DICT.items(), leave=False):\n",
    "                ds_out[f\"{diag_key}_{aggr_key}\"] = (\n",
    "                    aggr_func(_arr, model_names).sortby(model_names.t).compute()\n",
    "                )\n",
    "\n",
    "        xr.Dataset(ds_out).to_netcdf(\n",
    "            mypaths.datadir / model_key / f\"{THAI_case}_time_series_{model_key}.nc\"\n",
    "        )"
   ]
  },
  {
   "cell_type": "code",
   "execution_count": null,
   "id": "golden-measure",
   "metadata": {},
   "outputs": [],
   "source": [
    "client.close()"
   ]
  }
 ],
 "metadata": {
  "kernelspec": {
   "display_name": "Python [conda env:thai]",
   "language": "python",
   "name": "conda-env-thai-py"
  },
  "language_info": {
   "codemirror_mode": {
    "name": "ipython",
    "version": 3
   },
   "file_extension": ".py",
   "mimetype": "text/x-python",
   "name": "python",
   "nbconvert_exporter": "python",
   "pygments_lexer": "ipython3",
   "version": "3.9.2"
  }
 },
 "nbformat": 4,
 "nbformat_minor": 5
}
