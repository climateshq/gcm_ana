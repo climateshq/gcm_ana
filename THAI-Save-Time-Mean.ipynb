{
 "cells": [
  {
   "cell_type": "markdown",
   "id": "abstract-feelings",
   "metadata": {},
   "source": [
    "# Save time-averaged fields"
   ]
  },
  {
   "cell_type": "code",
   "execution_count": null,
   "id": "incident-travel",
   "metadata": {},
   "outputs": [],
   "source": [
    "import warnings\n",
    "\n",
    "warnings.filterwarnings(\"ignore\")  # noqa"
   ]
  },
  {
   "cell_type": "code",
   "execution_count": null,
   "id": "focused-yahoo",
   "metadata": {},
   "outputs": [],
   "source": [
    "# Standard library\n",
    "import multiprocessing.popen_spawn_posix\n",
    "\n",
    "# Data analysis and viz libraries\n",
    "import dask\n",
    "import numpy as np\n",
    "import xarray as xr\n",
    "from dask.distributed import Client\n",
    "\n",
    "# Progress bar\n",
    "from tqdm.notebook import tqdm"
   ]
  },
  {
   "cell_type": "code",
   "execution_count": null,
   "id": "handed-deposit",
   "metadata": {},
   "outputs": [],
   "source": [
    "# Local modules\n",
    "import mypaths\n",
    "import names\n",
    "from calc import time_mean, time_std\n",
    "from load_thai import LOAD_CONF\n",
    "from model_exocam import calc_alt_exocam, calc_pres_exocam\n",
    "from model_lmdg import calc_alt_lmdg"
   ]
  },
  {
   "cell_type": "markdown",
   "id": "rolled-wages",
   "metadata": {},
   "source": [
    "Start a local `dask` cluster."
   ]
  },
  {
   "cell_type": "code",
   "execution_count": null,
   "id": "automotive-vacation",
   "metadata": {},
   "outputs": [],
   "source": [
    "client = Client(processes=True, n_workers=4, threads_per_worker=1)\n",
    "client"
   ]
  },
  {
   "cell_type": "markdown",
   "id": "cathedral-milwaukee",
   "metadata": {},
   "source": [
    "## Choose case"
   ]
  },
  {
   "cell_type": "code",
   "execution_count": null,
   "id": "cooperative-lesson",
   "metadata": {},
   "outputs": [],
   "source": [
    "THAI_case = \"Hab1\""
   ]
  },
  {
   "cell_type": "code",
   "execution_count": null,
   "id": "studied-scratch",
   "metadata": {},
   "outputs": [],
   "source": [
    "if THAI_case.endswith(\"1\"):\n",
    "    import const_ben1_hab1 as const\n",
    "else:\n",
    "    import const_ben2_hab2 as const\n",
    "\n",
    "KW_CONST = dict(\n",
    "    mw_ratio=const.mw_ratio,\n",
    "    dry_air_gas_constant=const.rgas,\n",
    "    condens_gas_constant=const.rvapor,\n",
    "    gravity=const.gplanet,\n",
    ")"
   ]
  },
  {
   "cell_type": "code",
   "execution_count": null,
   "id": "23007d40-f6c5-4620-a90d-5bac0186f3c0",
   "metadata": {
    "tags": []
   },
   "outputs": [],
   "source": [
    "for model_key in tqdm(LOAD_CONF.keys()):\n",
    "    model_names = getattr(names, model_key.lower())\n",
    "    with LOAD_CONF[model_key][\"loader\"](THAI_case) as ds:\n",
    "        # if model_key in [\"ExoCAM\", \"LMDG\", \"ROCKE3D\"]:\n",
    "        #     # Regrid ExoCAM and ROCKE3D data to be compatible with `windspharm`:\n",
    "        #     # if latitudes are equally-spaced and even-numbered, they should not include poles.\n",
    "        #     nlat = 50  # new number of latitudes: 50\n",
    "        #     delta_lat = 180 / nlat\n",
    "        #     new_lats = np.linspace(90 - 0.5 * delta_lat, -90 + 0.5 * delta_lat, nlat)\n",
    "        # else:\n",
    "        #     new_lats = None\n",
    "\n",
    "        if model_key == \"ExoCAM\":\n",
    "            ds[model_names.pres] = calc_pres_exocam(ds)\n",
    "            ds[\"z\"] = calc_alt_exocam(ds, case=THAI_case, **KW_CONST)\n",
    "        elif model_key == \"LMDG\":\n",
    "            ds[\"level_height\"] = calc_alt_lmdg(ds, case=THAI_case, **KW_CONST)\n",
    "\n",
    "        ds_mean = {}\n",
    "        ds_std = {}\n",
    "        for d in ds.data_vars:\n",
    "            vrbl = ds[d]\n",
    "            # if (model_names.y in vrbl.dims) and (new_lats is not None):\n",
    "            #     vrbl = vrbl.isel(**{model_names.y: slice(1, -1)}).interp(\n",
    "            #         **{\n",
    "            #             model_names.y: new_lats,\n",
    "            #             \"kwargs\": {\"fill_value\": \"extrapolate\"},\n",
    "            #         },\n",
    "            #     )\n",
    "            if model_names.t in vrbl.dims:\n",
    "                try:\n",
    "                    vrbl_mean = time_mean(vrbl, model_names.t)\n",
    "                    vrbl_std = time_std(vrbl, model_names.t)\n",
    "                except TypeError:\n",
    "                    # print(model_key, d)\n",
    "                    pass\n",
    "            else:\n",
    "                vrbl_mean = vrbl\n",
    "                vrbl_std = vrbl\n",
    "            ds_mean[d] = vrbl_mean\n",
    "            ds_std[d] = vrbl_std\n",
    "        xr.Dataset(ds_mean).to_netcdf(\n",
    "            mypaths.datadir / model_key / f\"{THAI_case}_time_mean_{model_key}.nc\"\n",
    "        )\n",
    "        xr.Dataset(ds_std).to_netcdf(\n",
    "            mypaths.datadir / model_key / f\"{THAI_case}_time_std_{model_key}.nc\"\n",
    "        )"
   ]
  },
  {
   "cell_type": "code",
   "execution_count": null,
   "id": "golden-measure",
   "metadata": {},
   "outputs": [],
   "source": [
    "client.close()"
   ]
  },
  {
   "cell_type": "code",
   "execution_count": null,
   "id": "e939fe1f-0dd2-4b1c-9d67-a2a831346dea",
   "metadata": {},
   "outputs": [],
   "source": [
    "# check if the pole points have to be excluded before interpolation\n",
    "# model_key = \"ExoCAM\"\n",
    "# with LOAD_CONF[model_key][\"loader\"](THAI_case) as ds:\n",
    "#     model_names = getattr(names, model_key.lower())\n",
    "#     nlat = 50  # new number of latitudes: 50\n",
    "#     delta_lat = 180 / nlat\n",
    "#     new_lats = np.linspace(90 - 0.5 * delta_lat, -90 + 0.5 * delta_lat, nlat)\n",
    "#     a = ds[model_names.temp][-1, ...].interp(\n",
    "#         **{\n",
    "#             model_names.y: new_lats,\n",
    "#             \"kwargs\": {\"fill_value\": \"extrapolate\"},\n",
    "#         },\n",
    "#     )\n",
    "\n",
    "#     b = ds[model_names.temp][-1, ...].isel(**{model_names.y: slice(1, -1)}).interp(\n",
    "#         **{\n",
    "#             model_names.y: new_lats,\n",
    "#             \"kwargs\": {\"fill_value\": \"extrapolate\"},\n",
    "#         },\n",
    "#     )\n",
    "#     a[15, :, 10].plot()\n",
    "#     b[15, :, 10].plot()\n",
    "\n",
    "# Conclusion:\n",
    "# it seems better to exclude the points at the poles, especially for LMDG and ROCKE3D..."
   ]
  }
 ],
 "metadata": {
  "kernelspec": {
   "display_name": "Python [conda env:thai]",
   "language": "python",
   "name": "conda-env-thai-py"
  },
  "language_info": {
   "codemirror_mode": {
    "name": "ipython",
    "version": 3
   },
   "file_extension": ".py",
   "mimetype": "text/x-python",
   "name": "python",
   "nbconvert_exporter": "python",
   "pygments_lexer": "ipython3",
   "version": "3.9.7"
  }
 },
 "nbformat": 4,
 "nbformat_minor": 5
}
