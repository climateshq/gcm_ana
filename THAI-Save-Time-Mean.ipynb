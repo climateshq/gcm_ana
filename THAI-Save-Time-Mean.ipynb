{
 "cells": [
  {
   "cell_type": "markdown",
   "id": "tired-intention",
   "metadata": {},
   "source": [
    "# Save time-averaged fields"
   ]
  },
  {
   "cell_type": "code",
   "execution_count": 1,
   "id": "focal-shame",
   "metadata": {},
   "outputs": [],
   "source": [
    "import warnings\n",
    "\n",
    "warnings.filterwarnings(\"ignore\")  # noqa"
   ]
  },
  {
   "cell_type": "code",
   "execution_count": 2,
   "id": "affecting-globe",
   "metadata": {},
   "outputs": [],
   "source": [
    "# Standard library\n",
    "import multiprocessing.popen_spawn_posix\n",
    "\n",
    "# Data analysis and viz libraries\n",
    "import dask\n",
    "import numpy as np\n",
    "import xarray as xr\n",
    "from dask.distributed import Client\n",
    "\n",
    "# Progress bar\n",
    "from tqdm.notebook import tqdm"
   ]
  },
  {
   "cell_type": "code",
   "execution_count": 3,
   "id": "outdoor-raising",
   "metadata": {},
   "outputs": [],
   "source": [
    "# Local modules\n",
    "import mypaths\n",
    "import names\n",
    "from grid import time_mean\n",
    "from load_thai import LOAD_CONF\n",
    "from model_exocam import calc_alt_exocam, calc_pres_exocam\n",
    "from model_lmdg import calc_alt_lmdg"
   ]
  },
  {
   "cell_type": "markdown",
   "id": "current-butterfly",
   "metadata": {},
   "source": [
    "Start a local `dask` cluster."
   ]
  },
  {
   "cell_type": "code",
   "execution_count": 4,
   "id": "dramatic-toyota",
   "metadata": {},
   "outputs": [
    {
     "data": {
      "text/html": [
       "<table style=\"border: 2px solid white;\">\n",
       "<tr>\n",
       "<td style=\"vertical-align: top; border: 0px solid white\">\n",
       "<h3 style=\"text-align: left;\">Client</h3>\n",
       "<ul style=\"text-align: left; list-style: none; margin: 0; padding: 0;\">\n",
       "  <li><b>Scheduler: </b>tcp://127.0.0.1:36887</li>\n",
       "  <li><b>Dashboard: </b><a href='http://127.0.0.1:8787/status' target='_blank'>http://127.0.0.1:8787/status</a></li>\n",
       "</ul>\n",
       "</td>\n",
       "<td style=\"vertical-align: top; border: 0px solid white\">\n",
       "<h3 style=\"text-align: left;\">Cluster</h3>\n",
       "<ul style=\"text-align: left; list-style:none; margin: 0; padding: 0;\">\n",
       "  <li><b>Workers: </b>4</li>\n",
       "  <li><b>Cores: </b>4</li>\n",
       "  <li><b>Memory: </b>33.52 GB</li>\n",
       "</ul>\n",
       "</td>\n",
       "</tr>\n",
       "</table>"
      ],
      "text/plain": [
       "<Client: 'tcp://127.0.0.1:36887' processes=4 threads=4, memory=33.52 GB>"
      ]
     },
     "execution_count": 4,
     "metadata": {},
     "output_type": "execute_result"
    }
   ],
   "source": [
    "client = Client(processes=True, n_workers=4, threads_per_worker=1)\n",
    "client"
   ]
  },
  {
   "cell_type": "markdown",
   "id": "tested-pharmacy",
   "metadata": {},
   "source": [
    "## Choose case"
   ]
  },
  {
   "cell_type": "code",
   "execution_count": 5,
   "id": "wrong-identity",
   "metadata": {},
   "outputs": [],
   "source": [
    "THAI_case = \"Hab2\""
   ]
  },
  {
   "cell_type": "code",
   "execution_count": 6,
   "id": "virgin-review",
   "metadata": {},
   "outputs": [],
   "source": [
    "if THAI_case.endswith(\"1\"):\n",
    "    import const_ben1_hab1 as const\n",
    "else:\n",
    "    import const_ben2_hab2 as const\n",
    "\n",
    "KW_CONST = dict(\n",
    "    mw_ratio=const.mw_ratio,\n",
    "    dry_air_gas_constant=const.rgas,\n",
    "    condens_gas_constant=const.rvapor,\n",
    "    gravity=const.gplanet,\n",
    ")"
   ]
  },
  {
   "cell_type": "code",
   "execution_count": 8,
   "id": "soviet-oasis",
   "metadata": {
    "tags": []
   },
   "outputs": [
    {
     "data": {
      "application/vnd.jupyter.widget-view+json": {
       "model_id": "d4b936da99744ea6bbf970c718241dbf",
       "version_major": 2,
       "version_minor": 0
      },
      "text/plain": [
       "  0%|          | 0/4 [00:00<?, ?it/s]"
      ]
     },
     "metadata": {},
     "output_type": "display_data"
    },
    {
     "name": "stdout",
     "output_type": "stream",
     "text": [
      "ExoCAM date_written\n",
      "ExoCAM time_written\n"
     ]
    }
   ],
   "source": [
    "for model_key in tqdm(LOAD_CONF.keys()):\n",
    "    model_names = getattr(names, model_key.lower())\n",
    "    with LOAD_CONF[model_key][\"loader\"](THAI_case) as ds:\n",
    "        if model_key in [\"ExoCAM\", \"ROCKE3D\"]:\n",
    "            # Regrid ExoCAM and ROCKE3D data to be compatible with `windspharm`:\n",
    "            # if latitudes are equally-spaced and even-numbered, they should not include poles.\n",
    "            nlat = 50  # new number of latitudes: 50\n",
    "            delta_lat = 180 / nlat\n",
    "            new_lats = np.linspace(90 - 0.5 * delta_lat, -90 + 0.5 * delta_lat, nlat)\n",
    "        else:\n",
    "            new_lats = None\n",
    "\n",
    "        if model_key == \"ExoCAM\":\n",
    "            ds[model_names.pres] = calc_pres_exocam(ds)\n",
    "            ds[\"z\"] = calc_alt_exocam(ds, case=THAI_case, **KW_CONST)\n",
    "        elif model_key == \"LMDG\":\n",
    "            ds[\"level_height\"] = calc_alt_lmdg(ds, case=THAI_case, **KW_CONST)\n",
    "\n",
    "        new_ds = {}\n",
    "        for d in ds.data_vars:\n",
    "            vrbl = ds[d]\n",
    "            if (model_names.y in vrbl.dims) and (new_lats is not None):\n",
    "                vrbl = vrbl.interp(\n",
    "                    **{\n",
    "                        model_names.y: new_lats,\n",
    "                        \"kwargs\": {\"fill_value\": \"extrapolate\"},\n",
    "                    },\n",
    "                )\n",
    "            if model_names.t in vrbl.dims:\n",
    "                try:\n",
    "                    vrbl = time_mean(vrbl, model_names.t)\n",
    "                except TypeError:\n",
    "                    print(model_key, d)\n",
    "                    pass\n",
    "            new_ds[d] = vrbl\n",
    "        new_ds = xr.Dataset(new_ds)\n",
    "        new_ds.to_netcdf(\n",
    "            mypaths.datadir / model_key / f\"{THAI_case}_time_mean_{model_key}.nc\"\n",
    "        )\n",
    "        new_ds.close()\n",
    "        ds.close()"
   ]
  },
  {
   "cell_type": "code",
   "execution_count": 9,
   "id": "compliant-framework",
   "metadata": {},
   "outputs": [],
   "source": [
    "client.close()"
   ]
  }
 ],
 "metadata": {
  "kernelspec": {
   "display_name": "Python [conda env:thai]",
   "language": "python",
   "name": "conda-env-thai-py"
  },
  "language_info": {
   "codemirror_mode": {
    "name": "ipython",
    "version": 3
   },
   "file_extension": ".py",
   "mimetype": "text/x-python",
   "name": "python",
   "nbconvert_exporter": "python",
   "pygments_lexer": "ipython3",
   "version": "3.9.2"
  }
 },
 "nbformat": 4,
 "nbformat_minor": 5
}
