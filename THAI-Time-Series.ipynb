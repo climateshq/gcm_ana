{
 "cells": [
  {
   "cell_type": "markdown",
   "id": "continuous-playback",
   "metadata": {},
   "source": [
    "# Time series of key diagnostics of the THAI simulations\n"
   ]
  },
  {
   "cell_type": "code",
   "execution_count": null,
   "id": "legislative-calibration",
   "metadata": {},
   "outputs": [],
   "source": [
    "import warnings\n",
    "\n",
    "warnings.filterwarnings(\"ignore\")  # noqa"
   ]
  },
  {
   "cell_type": "code",
   "execution_count": null,
   "id": "informed-world",
   "metadata": {},
   "outputs": [],
   "source": [
    "# Standard library\n",
    "import multiprocessing.popen_spawn_posix\n",
    "\n",
    "# Data analysis and viz libraries\n",
    "import dask\n",
    "import matplotlib.pyplot as plt\n",
    "import numpy as np\n",
    "import xarray as xr\n",
    "from dask.distributed import Client\n",
    "\n",
    "# Progress bar\n",
    "from tqdm.notebook import tqdm"
   ]
  },
  {
   "cell_type": "code",
   "execution_count": null,
   "id": "square-dealer",
   "metadata": {},
   "outputs": [],
   "source": [
    "import aeolus.plot as aplt"
   ]
  },
  {
   "cell_type": "code",
   "execution_count": null,
   "id": "olive-concentrate",
   "metadata": {},
   "outputs": [],
   "source": [
    "# Local modules\n",
    "import mypaths\n",
    "import names\n",
    "from calc import (\n",
    "    dayside_mean,\n",
    "    get_time_rel_days,\n",
    "    global_mean,\n",
    "    meridional_mean,\n",
    "    nightside_mean,\n",
    "    spatial_mean,\n",
    "    terminator_mean,\n",
    "    time_mean,\n",
    "    zonal_mean,\n",
    ")\n",
    "from commons import MODELS\n",
    "from load_thai import LOAD_CONF\n",
    "from model_exocam import calc_alt_exocam\n",
    "from model_lmdg import calc_alt_lmdg, calc_virtual_temp_lmdg\n",
    "from plot_func import KW_AUX_TTL, KW_MAIN_TTL, KW_SBPLT_LABEL, figsave"
   ]
  },
  {
   "cell_type": "code",
   "execution_count": null,
   "id": "bigger-navigation",
   "metadata": {},
   "outputs": [],
   "source": [
    "plt.style.use(\"paper.mplstyle\")"
   ]
  },
  {
   "cell_type": "markdown",
   "id": "mysterious-reserve",
   "metadata": {},
   "source": [
    "Start a local `dask` cluster."
   ]
  },
  {
   "cell_type": "code",
   "execution_count": null,
   "id": "falling-average",
   "metadata": {},
   "outputs": [],
   "source": [
    "# client = Client(processes=True, n_workers=4, threads_per_worker=1)\n",
    "# client"
   ]
  },
  {
   "cell_type": "code",
   "execution_count": null,
   "id": "stupid-contract",
   "metadata": {},
   "outputs": [],
   "source": [
    "# SIMULATION LENGTH [Earth days]\n",
    "ndays = 610"
   ]
  },
  {
   "cell_type": "markdown",
   "id": "rolled-croatia",
   "metadata": {},
   "source": [
    "## Choose case"
   ]
  },
  {
   "cell_type": "code",
   "execution_count": null,
   "id": "historical-investor",
   "metadata": {},
   "outputs": [],
   "source": [
    "THAI_case = \"Hab1\""
   ]
  },
  {
   "cell_type": "code",
   "execution_count": null,
   "id": "further-malawi",
   "metadata": {},
   "outputs": [],
   "source": [
    "if THAI_case.endswith(\"1\"):\n",
    "    import const_ben1_hab1 as const\n",
    "else:\n",
    "    import const_ben2_hab2 as const\n",
    "\n",
    "# KW_CONST = dict(\n",
    "#     mw_ratio=const.mw_ratio,\n",
    "#     dry_air_gas_constant=const.rgas,\n",
    "#     condens_gas_constant=const.rvapor,\n",
    "#     gravity=const.gplanet,\n",
    "# )"
   ]
  },
  {
   "cell_type": "code",
   "execution_count": null,
   "id": "documented-sculpture",
   "metadata": {},
   "outputs": [],
   "source": [
    "def extract_sfc_temp(ds, model_key, case, const):\n",
    "    \"\"\"Extract surface temperature from a THAI dataset.\"\"\"\n",
    "    model_names = getattr(names, model_key.lower())\n",
    "    out = ds[model_names.t_sfc]\n",
    "    if model_key == \"ROCKE3D\":\n",
    "        out += const.t_melt  # convert from degC to K\n",
    "    return out\n",
    "\n",
    "\n",
    "def extract_open_ocean_frac(ds, model_key, case, const):\n",
    "    \"\"\"Extract open ocean fraction from a THAI dataset.\"\"\"\n",
    "    model_names = getattr(names, model_key.lower())\n",
    "    if model_key == \"ExoCAM\":\n",
    "        out = 1 - ds[model_names.ocean_frac]\n",
    "    elif model_key == \"LMDG\":\n",
    "        out = (1000 - ds[model_names.ocean_frac]) / 1000\n",
    "    elif model_key == \"ROCKE3D\":\n",
    "        out = ds[model_names.ocean_frac]\n",
    "    elif model_key == \"UM\":\n",
    "        out = ds[model_names.ocean_frac]\n",
    "    return out\n",
    "\n",
    "\n",
    "def extract_cwp(ds, model_key, case, const):\n",
    "    \"\"\"Extract cloud water path from a THAI dataset.\"\"\"\n",
    "    model_names = getattr(names, model_key.lower())\n",
    "    if model_key in [\"ExoCAM\", \"ROCKE3D\"]:\n",
    "        # input in [g m-2]\n",
    "        out = (ds[model_names.lwp] + ds[model_names.iwp]) / 1000\n",
    "    elif model_key == \"LMDG\":\n",
    "        out = ds[model_names.cwp]\n",
    "    elif model_key == \"UM\":\n",
    "        out = ds[model_names.lwp] + ds[model_names.iwp]\n",
    "    return out\n",
    "\n",
    "\n",
    "def max_cloud_mmr_altitude(ds, model_key, case, const):\n",
    "    \"\"\"Calculate the altitude of the maximum in cloud MMR from a THAI dataset.\"\"\"\n",
    "    model_names = getattr(names, model_key.lower())\n",
    "    _kw_const = dict(\n",
    "        mw_ratio=const.mw_ratio,\n",
    "        dry_air_gas_constant=const.rgas,\n",
    "        condens_gas_constant=const.rvapor,\n",
    "        gravity=const.gplanet,\n",
    "    )\n",
    "    if model_key == \"ExoCAM\":\n",
    "        alt = calc_alt_exocam(ds, case=case, **_kw_const)\n",
    "        cld_mmr = ds[model_names.cld_ice_mf] + ds[model_names.cld_liq_mf]\n",
    "        out = alt.isel({model_names.lev: cld_mmr.argmax(dim=model_names.lev).compute()})\n",
    "    elif model_key == \"LMDG\":\n",
    "        alt = calc_alt_lmdg(ds, case=case, **_kw_const)\n",
    "        cld_mmr = ds[model_names.cld_ice_mf]\n",
    "        out = alt.isel({model_names.z: cld_mmr.argmax(dim=model_names.z).compute()})\n",
    "    elif model_key == \"ROCKE3D\":\n",
    "        alt = ds[model_names.z]\n",
    "        cld_mmr = ds[model_names.cld_ice_mf] + ds[model_names.cld_liq_mf]\n",
    "        out = alt.isel({model_names.lev: cld_mmr.argmax(dim=model_names.lev).compute()})\n",
    "    elif model_key == \"UM\":\n",
    "        cld_mmr = ds[model_names.cld_ice_mf] + ds[model_names.cld_liq_mf]\n",
    "        out = cld_mmr.idxmax(dim=model_names.z)\n",
    "    out /= 1000  # convert to km\n",
    "    return out"
   ]
  },
  {
   "cell_type": "code",
   "execution_count": null,
   "id": "inner-miracle",
   "metadata": {},
   "outputs": [],
   "source": [
    "AGGR_DICT = dict(g=global_mean, d=dayside_mean, n=nightside_mean, t=terminator_mean)\n",
    "\n",
    "AGGR_TITLES = {\n",
    "    \"g\": \"Global\",\n",
    "    \"d\": \"Day side\",\n",
    "    \"n\": \"Night side\",\n",
    "    \"t\": \"Terminators\",\n",
    "}"
   ]
  },
  {
   "cell_type": "code",
   "execution_count": null,
   "id": "noticed-validation",
   "metadata": {},
   "outputs": [],
   "source": [
    "DATA_DICT = {}\n",
    "for model_key in tqdm(LOAD_CONF.keys()):\n",
    "    model_names = getattr(names, model_key.lower())\n",
    "    DATA_DICT[model_key] = {}\n",
    "    with LOAD_CONF[model_key][\"loader\"](THAI_case) as ds:\n",
    "        DATA_DICT[model_key][\"time\"] = get_time_rel_days(ds[model_names.t])\n",
    "        for var_key, var_dict in tqdm(VAR_PLOT.items(), leave=False):\n",
    "            vrbl = var_dict[\"func\"](ds, model_key, THAI_case, const).isel(\n",
    "                **{model_names.y: slice(1, -1)}\n",
    "            )\n",
    "            DATA_DICT[model_key][var_key] = {}\n",
    "            for aggr_key, aggr_func in tqdm(AGGR_DICT.items(), leave=False):\n",
    "                DATA_DICT[model_key][var_key][aggr_key] = (\n",
    "                    aggr_func(vrbl, model_names).sortby(model_names.t).compute()\n",
    "                )"
   ]
  },
  {
   "cell_type": "code",
   "execution_count": null,
   "id": "charming-native",
   "metadata": {},
   "outputs": [],
   "source": [
    "VAR_PLOT = {\n",
    "    \"t_sfc\": {\n",
    "        \"func\": extract_sfc_temp,\n",
    "        \"title\": \"Surface temperature [$K$]\",\n",
    "        \"lim\": dict(g=[230, 255], d=[258, 272], n=[200, 240]),\n",
    "    },\n",
    "    \"ocean_frac\": {\n",
    "        \"func\": extract_open_ocean_frac,\n",
    "        \"title\": \"Ice-frea ocean area fraction\",\n",
    "        \"lim\": dict(g=[0.18, 0.25]),\n",
    "    },\n",
    "    \"cwp\": {\n",
    "        \"func\": extract_cwp,\n",
    "        \"title\": \"Cloud water path [$kg$ $m^{-2}$]\",\n",
    "        \"lim\": dict(g=[0.02, 0.18], d=[0.04, 0.30], n=[0, 0.12], t=[0, 0.18]),\n",
    "    },\n",
    "    \"max_cld_mmr_alr\": {\n",
    "        \"func\": max_cloud_mmr_altitude,\n",
    "        \"title\": \"Maximum cloud MMR altitude [$km$]\",\n",
    "        \"lim\": dict(g=[0, 12], d=[0, 12], n=[0, 12], t=[0, 12]),\n",
    "    },\n",
    "}"
   ]
  },
  {
   "cell_type": "code",
   "execution_count": null,
   "id": "demonstrated-compression",
   "metadata": {},
   "outputs": [],
   "source": [
    "ncols = len(AGGR_DICT)\n",
    "nrows = 3  # len(VAR_PLOT)\n",
    "\n",
    "fig, axs = plt.subplots(\n",
    "    ncols=ncols, nrows=nrows, figsize=(7 * ncols, 4 * nrows), constrained_layout=False\n",
    ")\n",
    "iletters = aplt.subplot_label_generator()\n",
    "# Surface temperature\n",
    "ax_slice = axs[0, :-1]\n",
    "var_key = \"t_sfc\"\n",
    "var_dict = VAR_PLOT[var_key]\n",
    "for ax, aggr_key in zip(ax_slice, AGGR_DICT.keys()):\n",
    "    for model_key in LOAD_CONF.keys():\n",
    "        model_dict = MODELS[model_key.lower()]\n",
    "        time = np.arange(DATA_DICT[model_key][\"time\"].shape[0]) / 4\n",
    "        data = DATA_DICT[model_key][var_key][aggr_key]\n",
    "        ax.plot(time, data, color=model_dict[\"color\"], label=model_dict[\"title\"])\n",
    "    ax.set_ylim(var_dict[\"lim\"][aggr_key])\n",
    "    if ax.is_first_col():\n",
    "        ax.set_ylabel(var_dict[\"title\"])\n",
    "    ax.set_title(AGGR_TITLES[aggr_key], **KW_AUX_TTL)\n",
    "\n",
    "# Ocean fraction (global only)\n",
    "var_key = \"ocean_frac\"\n",
    "var_dict = VAR_PLOT[var_key]\n",
    "aggr_key = \"g\"\n",
    "ax = axs[0, -1]\n",
    "for model_key in LOAD_CONF.keys():\n",
    "    model_dict = MODELS[model_key.lower()]\n",
    "    time = np.arange(DATA_DICT[model_key][\"time\"].shape[0]) / 4\n",
    "    data = DATA_DICT[model_key][var_key][aggr_key]\n",
    "    ax.plot(time, data, color=model_dict[\"color\"], label=model_dict[\"title\"])\n",
    "ax.set_ylim(var_dict[\"lim\"][aggr_key])\n",
    "ax.set_title(var_dict[\"title\"], **KW_MAIN_TTL)\n",
    "ax.set_title(AGGR_TITLES[aggr_key], **KW_AUX_TTL)\n",
    "\n",
    "# The rest: CWP and cloud height\n",
    "for ax_slice, var_key in zip(axs[1:, :], [\"cwp\", \"max_cld_mmr_alr\"]):\n",
    "    var_dict = VAR_PLOT[var_key]\n",
    "    for ax, aggr_key in zip(ax_slice, AGGR_DICT.keys()):\n",
    "        for model_key in LOAD_CONF.keys():\n",
    "            model_dict = MODELS[model_key.lower()]\n",
    "            time = np.arange(DATA_DICT[model_key][\"time\"].shape[0]) / 4\n",
    "            data = DATA_DICT[model_key][var_key][aggr_key]\n",
    "            ax.plot(time, data, color=model_dict[\"color\"], label=model_dict[\"title\"])\n",
    "        ax.set_ylim(var_dict[\"lim\"][aggr_key])\n",
    "        if ax.is_first_col():\n",
    "            ax.set_ylabel(var_dict[\"title\"])\n",
    "        ax.set_title(AGGR_TITLES[aggr_key], **KW_AUX_TTL)\n",
    "\n",
    "# Common labels\n",
    "for ax in axs.flat:\n",
    "    ax.set_title(f\"({next(iletters)})\", **KW_SBPLT_LABEL)\n",
    "    ax.set_xlim(0, ndays)\n",
    "    ax.set_xticks(np.linspace(0, ndays, 11))\n",
    "    ax.set_xticklabels(np.round(np.linspace(0, ndays, 11) / const.period).astype(int))\n",
    "    if ax.is_last_row():\n",
    "        ax.set_xlabel(\"Orbits\")\n",
    "\n",
    "axs.flatten()[0].legend(\n",
    "    title=THAI_case, ncol=len(MODELS), loc=\"lower left\", bbox_to_anchor=(-0.2, 1.1)\n",
    ")\n",
    "fig.align_ylabels(axs[:, 0])\n",
    "# plt.subplots_adjust(wspace=0.3)"
   ]
  }
 ],
 "metadata": {
  "kernelspec": {
   "display_name": "Python [conda env:thai]",
   "language": "python",
   "name": "conda-env-thai-py"
  },
  "language_info": {
   "codemirror_mode": {
    "name": "ipython",
    "version": 3
   },
   "file_extension": ".py",
   "mimetype": "text/x-python",
   "name": "python",
   "nbconvert_exporter": "python",
   "pygments_lexer": "ipython3",
   "version": "3.9.2"
  }
 },
 "nbformat": 4,
 "nbformat_minor": 5
}
