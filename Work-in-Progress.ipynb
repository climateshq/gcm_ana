{
 "cells": [
  {
   "cell_type": "markdown",
   "metadata": {},
   "source": [
    "# THAI data analysis (work in progress)"
   ]
  },
  {
   "cell_type": "code",
   "execution_count": null,
   "metadata": {},
   "outputs": [],
   "source": [
    "# Standard library\n",
    "from pathlib import Path\n",
    "\n",
    "# Data analysis libraries\n",
    "import dask.array as da\n",
    "import xarray as xr\n",
    "\n",
    "# Local modules\n",
    "from calc import hdiv, moist_static_energy\n",
    "from grid import reverse_along_dim, meridional_mean, zonal_mean\n",
    "from model_um import adjust_um_grid, calc_um_ocean_frac, open_mf_um, prep_um_ds\n",
    "from model_exocam import adjust_exocam_grid, calc_pres_exocam, calc_alt_exocam"
   ]
  },
  {
   "cell_type": "markdown",
   "metadata": {},
   "source": [
    "Define a common THAI directory"
   ]
  },
  {
   "cell_type": "code",
   "execution_count": null,
   "metadata": {},
   "outputs": [],
   "source": [
    "thai_dir = Path.cwd().parent / \"data\""
   ]
  },
  {
   "cell_type": "markdown",
   "metadata": {},
   "source": [
    "Create a dicitonary with model metadata"
   ]
  },
  {
   "cell_type": "code",
   "execution_count": null,
   "metadata": {},
   "outputs": [],
   "source": [
    "models = {\n",
    "    \"LMDG\": {\n",
    "        \"dir\": thai_dir / \"LMD-G\",\n",
    "        \"chunks\": {\"Time\": 61},\n",
    "        \"time\": \"Time\",\n",
    "        \"lon\": \"longitude\",\n",
    "        \"lat\": \"latitude\",\n",
    "        \"lev\": \"altitude\",\n",
    "    },\n",
    "    \"UM\": {\n",
    "        \"dir\": thai_dir / \"UM\",\n",
    "        \"chunks\": {\"hourly\": 61},\n",
    "        \"time\": \"hourly\",\n",
    "        \"lon\": \"longitude_t\",\n",
    "        \"lat\": \"latitude_t\",\n",
    "        \"lev\": \"thlev_zsea_theta\",\n",
    "    },\n",
    "    \"ExoCAM\": {\n",
    "        \"dir\": thai_dir / \"ExoCAM\",\n",
    "        \"chunks\": {\"time\": 61},\n",
    "        \"time\": \"time\",\n",
    "        \"lon\": \"lon\",\n",
    "        \"lat\": \"lat\",\n",
    "    },\n",
    "}"
   ]
  },
  {
   "cell_type": "code",
   "execution_count": null,
   "metadata": {},
   "outputs": [],
   "source": [
    "# # Contants\n",
    "# from aeolus.const import init_const\n",
    "\n",
    "# c = init_const(\"trap1e\")\n",
    "\n",
    "# r_planet = c.radius.data\n",
    "# gas_const = c.dry_air_gas_constant.data\n",
    "# c_p = c.dry_air_spec_heat_press.data\n",
    "# g = c.gravity.data\n",
    "# l_v = c.condensible_heat_vaporization.data"
   ]
  },
  {
   "cell_type": "markdown",
   "metadata": {},
   "source": [
    "## Loading the data"
   ]
  },
  {
   "cell_type": "markdown",
   "metadata": {},
   "source": [
    "Load all data"
   ]
  },
  {
   "cell_type": "code",
   "execution_count": null,
   "metadata": {},
   "outputs": [],
   "source": [
    "# Load data\n",
    "datasets = {}  # Create an empty dictionary to store all data\n",
    "# Loop over THAI cases (this loop can swapped places with the loop below if needed)\n",
    "for THAI_case in [\"Hab1\"]:  # , \"Hab1star\"]:\n",
    "    # for each of the THAI cases, create a nested directory for models\n",
    "    datasets[THAI_case] = {}\n",
    "    for model_key, model_dict in models.items():\n",
    "        if model_key == \"UM\":\n",
    "            files = sorted(\n",
    "                (models[model_key][\"dir\"] / THAI_case).glob(\n",
    "                    f\"{THAI_case}_{model_key}*.nc\"\n",
    "                )\n",
    "            )\n",
    "            ds = open_mf_um(\n",
    "                files,\n",
    "                main_time=\"hourly\",\n",
    "                rad_time=\"hourly_rad\",\n",
    "                decode_times=False,\n",
    "                chunks=model_dict[\"chunks\"],\n",
    "            )\n",
    "            ds = prep_um_ds(ds, vert_lev_miss_val=\"drop\")\n",
    "        else:\n",
    "            ds = xr.open_mfdataset(\n",
    "                str(model_dict[\"dir\"] / THAI_case / f\"{THAI_case}_{model_key}*.nc\"),\n",
    "                decode_times=False,\n",
    "                combine=\"nested\",\n",
    "                concat_dim=model_dict[\"time\"],\n",
    "                chunks=model_dict[\"chunks\"],\n",
    "            )\n",
    "            if model_key == \"ExoCAM\":\n",
    "                _tmp_ds = {}\n",
    "                for d in ds.data_vars:\n",
    "                    _tmp_ds[d] = adjust_exocam_grid(ds[d])\n",
    "                ds = xr.Dataset(_tmp_ds)\n",
    "        datasets[THAI_case][model_key] = ds\n",
    "del ds"
   ]
  },
  {
   "cell_type": "markdown",
   "metadata": {},
   "source": [
    "## Diagnostics and plots"
   ]
  },
  {
   "cell_type": "code",
   "execution_count": null,
   "metadata": {},
   "outputs": [],
   "source": [
    "# Prepare variables\n",
    "model_key = \"UM\"\n",
    "temp = datasets[THAI_case][model_key].STASH_m01s16i004.isel(\n",
    "    **{models[model_key][\"time\"]: -1}\n",
    ")  # .mean(dim=models[\"UM\"][\"time\"]).compute()\n",
    "u = datasets[THAI_case][model_key].STASH_m01s00i002.isel(\n",
    "    **{models[model_key][\"time\"]: -1}\n",
    ")\n",
    "v = datasets[THAI_case][model_key].STASH_m01s00i003.isel(\n",
    "    **{models[model_key][\"time\"]: -1}\n",
    ")\n",
    "pres = datasets[THAI_case][model_key].STASH_m01s00i408.isel(\n",
    "    **{models[model_key][\"time\"]: -1}\n",
    ")\n",
    "spec_hum = datasets[THAI_case][model_key].STASH_m01s00i010.isel(\n",
    "    **{models[model_key][\"time\"]: -1}\n",
    ")\n",
    "alt = datasets[THAI_case][model_key].thlev_zsea_theta\n",
    "rho = pres / (gas_const * temp)"
   ]
  },
  {
   "cell_type": "code",
   "execution_count": null,
   "metadata": {},
   "outputs": [],
   "source": [
    "# test_dse = vert_mer_mean_of_dse_flux(\n",
    "#     temp,\n",
    "#     alt,\n",
    "#     spec_hum,\n",
    "#     u,\n",
    "#     v,\n",
    "#     rho=rho,\n",
    "#     zcoord_type=\"height\",\n",
    "#     lon_name=models[model_key][\"lon\"],\n",
    "#     lat_name=models[model_key][\"lat\"],\n",
    "#     z_name=models[model_key][\"lev\"],\n",
    "#     c_p=c_p,\n",
    "#     gravity=g,\n",
    "#     latent_heat=l_v,\n",
    "#     r_planet=r_planet,\n",
    "# )"
   ]
  }
 ],
 "metadata": {
  "kernelspec": {
   "display_name": "Python [conda env:exo]",
   "language": "python",
   "name": "conda-env-exo-py"
  },
  "language_info": {
   "codemirror_mode": {
    "name": "ipython",
    "version": 3
   },
   "file_extension": ".py",
   "mimetype": "text/x-python",
   "name": "python",
   "nbconvert_exporter": "python",
   "pygments_lexer": "ipython3",
   "version": "3.8.5"
  }
 },
 "nbformat": 4,
 "nbformat_minor": 4
}
