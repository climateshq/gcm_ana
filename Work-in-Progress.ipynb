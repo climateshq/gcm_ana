{
 "cells": [
  {
   "cell_type": "markdown",
   "metadata": {},
   "source": [
    "# THAI data analysis (work in progress)"
   ]
  },
  {
   "cell_type": "code",
   "execution_count": 1,
   "metadata": {},
   "outputs": [],
   "source": [
    "# Standard library\n",
    "from pathlib import Path\n",
    "\n",
    "# Data analysis and viz libraries\n",
    "import dask.array as da\n",
    "import matplotlib.pyplot as plt\n",
    "import xarray as xr"
   ]
  },
  {
   "cell_type": "code",
   "execution_count": 2,
   "metadata": {},
   "outputs": [],
   "source": [
    "# Local modules\n",
    "from calc import (\n",
    "    hdiv,\n",
    "    integral,\n",
    "    mass_weighted_vertical_integral,\n",
    "    moist_static_energy,\n",
    "    vert_mer_mean_of_mse_flux,\n",
    ")\n",
    "from grid import (\n",
    "    EARTH_RADIUS,\n",
    "    meridional_mean,\n",
    "    reverse_along_dim,\n",
    "    roll_da_to_0360,\n",
    "    roll_da_to_pm180,\n",
    "    zonal_mean,\n",
    ")\n",
    "from model_exocam import adjust_exocam_grid, calc_alt_exocam, calc_pres_exocam\n",
    "from model_rocke3d import adjust_rocke3d_grid\n",
    "from model_um import adjust_um_grid, calc_um_ocean_frac, open_mf_um, prep_um_ds"
   ]
  },
  {
   "cell_type": "markdown",
   "metadata": {},
   "source": [
    "Define a common THAI directory"
   ]
  },
  {
   "cell_type": "code",
   "execution_count": 3,
   "metadata": {},
   "outputs": [],
   "source": [
    "thai_dir = Path.cwd().parent / \"data\""
   ]
  },
  {
   "cell_type": "markdown",
   "metadata": {},
   "source": [
    "Create a dicitonary with model metadata"
   ]
  },
  {
   "cell_type": "code",
   "execution_count": 4,
   "metadata": {},
   "outputs": [],
   "source": [
    "models = {\n",
    "    \"LMDG\": {\n",
    "        \"dir\": thai_dir / \"LMD-G\",\n",
    "        \"chunks\": {\"Time\": 61},\n",
    "        \"time\": \"Time\",\n",
    "        \"lon\": \"longitude\",\n",
    "        \"lat\": \"latitude\",\n",
    "        \"lev\": \"altitude\",\n",
    "    },\n",
    "    \"UM\": {\n",
    "        \"dir\": thai_dir / \"UM\",\n",
    "        \"chunks\": {\"hourly\": 61},\n",
    "        \"time\": \"hourly\",\n",
    "        \"lon\": \"longitude_t\",\n",
    "        \"lat\": \"latitude_t\",\n",
    "        \"lev\": \"thlev_zsea_theta\",\n",
    "    },\n",
    "    \"ExoCAM\": {\n",
    "        \"dir\": thai_dir / \"ExoCAM\",\n",
    "        \"chunks\": {\"time\": 61},\n",
    "        \"time\": \"time\",\n",
    "        \"lon\": \"lon\",\n",
    "        \"lat\": \"lat\",\n",
    "        \"lev\": \"lev\",\n",
    "    },\n",
    "    \"ROCKE3D\": {\n",
    "        \"dir\": thai_dir / \"ROCKE3D\",\n",
    "        \"chunks\": {\"time\": 50},  # ROCKE3D has 2500 time steps\n",
    "        \"time\": \"time\",\n",
    "        \"lon\": \"lon\",\n",
    "        \"lat\": \"lat\",\n",
    "        \"lev\": \"level\",\n",
    "    },\n",
    "}"
   ]
  },
  {
   "cell_type": "markdown",
   "metadata": {},
   "source": [
    "## Constants\n",
    "\n",
    "Define atmospheric and planetary constants. Note the planet's radius is in meters!"
   ]
  },
  {
   "cell_type": "code",
   "execution_count": 5,
   "metadata": {},
   "outputs": [],
   "source": [
    "# # Contants\n",
    "# from aeolus.const import init_const\n",
    "# c = init_const(\"trap1e\")\n",
    "# r_planet = c.radius.data\n",
    "# gas_const = c.dry_air_gas_constant.data\n",
    "# c_p = c.dry_air_spec_heat_press.data\n",
    "# g = c.gravity.data\n",
    "# l_v = c.condensible_heat_vaporization.data\n",
    "# TRAPPIST-1e INPUT PARAMETERS\n",
    "# THAI_Case: Ben1, Ben2, Hab1, Hab1star, Hab2\n",
    "THAI_case = \"Ben2\"\n",
    "\n",
    "itime = 2440  # time step dry cases\n",
    "\n",
    "# ATMOSPHERIC COMPOSITIONS\n",
    "Ptot = 1  # sufrace pressure in bar\n",
    "\n",
    "if THAI_case in [\"Ben1\", \"Hab1\", \"Hab1_star\"]:\n",
    "    CO2 = 0.000400  # mixing ratio of CO2 in bar\n",
    "    N2 = 1 - CO2  # mixing ratio of N2 in bar\n",
    "    cp = 1039\n",
    "    Rcp = 0.297\n",
    "    rgas = 287.058  # J/kg K\n",
    "elif THAI_case in [\"Ben2\", \"Hab2\"]:  # Ben2 and Hab2\n",
    "    CO2 = 1.0  # mixing ratio of CO2\n",
    "    N2 = 1.0 - CO2  # mixing ratio of N2\n",
    "    cp = 846\n",
    "    Rcp = 0.189\n",
    "    rgas = 188.92  # J/kg K\n",
    "rvapor = 461.52  # J/kg K\n",
    "mw_dryair = 28.0134 * N2 + 44.01 * CO2  # Atmospheric molecular weight [g/mol]\n",
    "mw_vapor = 18.01528\n",
    "mw_ratio = mw_dryair / mw_vapor\n",
    "latent_heat = 2_501_000\n",
    "\n",
    "# PLANETS PROPERTIES\n",
    "Planet_Dfactor = (\n",
    "    0.940  # Earth unit, following Khane et al. 2018 from Delrez et al. 2018\n",
    ")\n",
    "Planet_gfactor = 0.930  # Earth unit\n",
    "\n",
    "Earth_D = 6371 * 2 * 1e3  # Earth diameter [m]\n",
    "Earth_g = 9.81  # Earth gravity\n",
    "gplanet = Planet_gfactor * Earth_g  # gravity of the planet in m/s2\n",
    "Dplanet = int(Planet_Dfactor * Earth_D)  # Diameter of the planet in km\n",
    "Rplanet = Dplanet / 2"
   ]
  },
  {
   "cell_type": "markdown",
   "metadata": {},
   "source": [
    "## Loading the data"
   ]
  },
  {
   "cell_type": "markdown",
   "metadata": {},
   "source": [
    "Lazily load all data into one dictionary."
   ]
  },
  {
   "cell_type": "code",
   "execution_count": 6,
   "metadata": {},
   "outputs": [],
   "source": [
    "# Load data\n",
    "datasets = {}  # Create an empty dictionary to store all data\n",
    "# Loop over THAI cases (this loop can swapped places with the loop below if needed)\n",
    "for THAI_case in [THAI_case]:\n",
    "    # for each of the THAI cases, create a nested directory for models\n",
    "    datasets[THAI_case] = {}\n",
    "    for model_key, model_dict in models.items():\n",
    "        if model_key == \"UM\":\n",
    "            files = sorted(\n",
    "                (models[model_key][\"dir\"]).glob(f\"{THAI_case}_{model_key}*.nc\")\n",
    "            )\n",
    "            ds = open_mf_um(\n",
    "                files,\n",
    "                main_time=\"hourly\",\n",
    "                rad_time=\"hourly_rad\",\n",
    "                decode_times=False,\n",
    "                chunks=model_dict[\"chunks\"],\n",
    "            )\n",
    "            ds = prep_um_ds(ds, vert_lev_miss_val=\"drop\")\n",
    "\n",
    "        elif model_key == \"ROCKE3D\":\n",
    "            ds = xr.open_mfdataset(\n",
    "                str(model_dict[\"dir\"] / f\"{THAI_case}_{model_key}_*.nc\"),\n",
    "                decode_times=False,\n",
    "                chunks=model_dict[\"chunks\"],\n",
    "            )\n",
    "            _tmp_ds = {}\n",
    "            for d in ds.data_vars:\n",
    "                _tmp_ds[d] = adjust_rocke3d_grid(ds[d])\n",
    "            ds = xr.Dataset(_tmp_ds)  # OUTSIDE THE LOOP!\n",
    "\n",
    "        elif model_key == \"ExoCAM\":\n",
    "            ds = xr.open_mfdataset(\n",
    "                str(model_dict[\"dir\"] / f\"{THAI_case}_{model_key}*.nc\"),\n",
    "                decode_times=False,\n",
    "                combine=\"nested\",\n",
    "                concat_dim=model_dict[\"time\"],\n",
    "                chunks=model_dict[\"chunks\"],\n",
    "            )\n",
    "            _tmp_ds = {}\n",
    "            for d in ds.data_vars:\n",
    "                _tmp_ds[d] = adjust_exocam_grid(ds[d])\n",
    "            ds = xr.Dataset(_tmp_ds)\n",
    "\n",
    "        elif model_key == \"LMDG\":\n",
    "            ds = xr.open_mfdataset(\n",
    "                str(model_dict[\"dir\"] / f\"{THAI_case}_{model_key}*.nc\"),\n",
    "                decode_times=False,\n",
    "                combine=\"nested\",\n",
    "                concat_dim=model_dict[\"time\"],\n",
    "                chunks=model_dict[\"chunks\"],\n",
    "            )\n",
    "        datasets[THAI_case][model_key] = ds\n",
    "del ds"
   ]
  },
  {
   "cell_type": "markdown",
   "metadata": {},
   "source": [
    "## Diagnostics and plots"
   ]
  },
  {
   "cell_type": "markdown",
   "metadata": {},
   "source": [
    "### ExoCAM"
   ]
  },
  {
   "cell_type": "code",
   "execution_count": 7,
   "metadata": {},
   "outputs": [],
   "source": [
    "# Prepare variables\n",
    "model_key = \"ExoCAM\"\n",
    "ds = datasets[THAI_case][model_key].isel(\n",
    "    **{\n",
    "        # Choose only the last chunk for now\n",
    "        models[model_key][\"time\"]: slice(-61, None),\n",
    "        # Discard rows close to poles\n",
    "        models[model_key][\"lat\"]: slice(1, -1),\n",
    "        # (Optional, change 2nd None to turn it on) Discard upper atmosphere levels\n",
    "        models[model_key][\"lev\"]: slice(None, None),\n",
    "        \"ilev\": slice(None, None),\n",
    "    }\n",
    ")\n",
    "temp_ExoCAM = ds.T\n",
    "press_ExoCAM = calc_pres_exocam(ds)\n",
    "rho_ExoCAM = press_ExoCAM / (rgas * temp_ExoCAM)\n",
    "u_ExoCAM = ds.U\n",
    "v_ExoCAM = ds.V\n",
    "q_ExoCAM = ds.Q\n",
    "alt_ExoCAM = calc_alt_exocam(\n",
    "    ds,\n",
    "    mw_ratio=mw_ratio,\n",
    "    dry_air_gas_constant=rgas,\n",
    "    condens_gas_constant=rvapor,\n",
    "    gravity=gplanet,\n",
    ")"
   ]
  },
  {
   "cell_type": "code",
   "execution_count": 8,
   "metadata": {},
   "outputs": [],
   "source": [
    "(dse_hdiv_int_by_press,) = vert_mer_mean_of_mse_flux(\n",
    "    u_ExoCAM,\n",
    "    v_ExoCAM,\n",
    "    temp=temp_ExoCAM,\n",
    "    alt=alt_ExoCAM,\n",
    "    zcoord=press_ExoCAM,\n",
    "    zcoord_type=\"pressure\",\n",
    "    lon_name=models[model_key][\"lon\"],\n",
    "    lat_name=models[model_key][\"lat\"],\n",
    "    z_name=models[model_key][\"lev\"],\n",
    "    cmpnt=\"dry\",\n",
    "    c_p=cp,\n",
    "    gravity=gplanet,\n",
    "    latent_heat=latent_heat,\n",
    "    r_planet=Rplanet,\n",
    ")"
   ]
  },
  {
   "cell_type": "code",
   "execution_count": 9,
   "metadata": {},
   "outputs": [],
   "source": [
    "(dse_hdiv_int_by_height,) = vert_mer_mean_of_mse_flux(\n",
    "    u_ExoCAM,\n",
    "    v_ExoCAM,\n",
    "    temp=temp_ExoCAM,\n",
    "    alt=alt_ExoCAM,\n",
    "    zcoord=alt_ExoCAM,\n",
    "    rho=rho_ExoCAM,\n",
    "    zcoord_type=\"height\",\n",
    "    lon_name=models[model_key][\"lon\"],\n",
    "    lat_name=models[model_key][\"lat\"],\n",
    "    z_name=models[model_key][\"lev\"],\n",
    "    cmpnt=\"dry\",\n",
    "    c_p=cp,\n",
    "    gravity=gplanet,\n",
    "    latent_heat=latent_heat,\n",
    "    r_planet=Rplanet,\n",
    ")"
   ]
  },
  {
   "cell_type": "code",
   "execution_count": 10,
   "metadata": {},
   "outputs": [
    {
     "data": {
      "text/plain": [
       "<matplotlib.legend.Legend at 0x7fef911e13d0>"
      ]
     },
     "execution_count": 10,
     "metadata": {},
     "output_type": "execute_result"
    },
    {
     "data": {
      "image/png": "[encoded data removed]",
      "text/plain": [
       "<Figure size 432x288 with 1 Axes>"
      ]
     },
     "metadata": {
      "needs_background": "light"
     },
     "output_type": "display_data"
    }
   ],
   "source": [
    "dse_hdiv_int_by_height.mean(\"time\").plot(label=\"Using pressure\")\n",
    "dse_hdiv_int_by_press.mean(\"time\").plot(label=\"Using height\")\n",
    "plt.legend()"
   ]
  },
  {
   "cell_type": "markdown",
   "metadata": {},
   "source": [
    "## ROCKE3D"
   ]
  },
  {
   "cell_type": "code",
   "execution_count": 11,
   "metadata": {},
   "outputs": [],
   "source": [
    "model_key = \"ROCKE3D\"\n",
    "ds = datasets[THAI_case][model_key].isel(\n",
    "    **{\n",
    "        # Choose only the last chunk for now\n",
    "        models[model_key][\"time\"]: slice(None, None),\n",
    "        # Discard rows close to poles\n",
    "        models[model_key][\"lat\"]: slice(1, -1),\n",
    "        # Discard upper atmosphere levels\n",
    "        models[model_key][\"lev\"]: slice(None, None),\n",
    "    }\n",
    ")\n",
    "lat_ROCKE3D = ds.lat\n",
    "lon_ROCKE3D = ds.lon\n",
    "tsurf_ROCKE3D = ds.tgrnd + 273.15  # temperature in C\n",
    "ps_ROCKE3D = ds.p_surf\n",
    "\n",
    "\n",
    "temp_ROCKE3D = ds.t\n",
    "u_ROCKE3D = ds.u\n",
    "v_ROCKE3D = ds.v\n",
    "w_ROCKE3D = ds.w\n",
    "alt_ROCKE3D = ds.z\n",
    "press_ROCKE3D = ds.p_3d * 100  # (mb to Pa)\n",
    "rho_ROCKE3D = press_ROCKE3D / (rgas * temp_ROCKE3D)"
   ]
  },
  {
   "cell_type": "code",
   "execution_count": 12,
   "metadata": {},
   "outputs": [],
   "source": [
    "(dse_hdiv_int_ROCKE3D,) = vert_mer_mean_of_mse_flux(\n",
    "    u_ROCKE3D,\n",
    "    v_ROCKE3D,\n",
    "    temp=temp_ROCKE3D,\n",
    "    alt=alt_ROCKE3D,\n",
    "    zcoord=alt_ROCKE3D,\n",
    "    rho=rho_ROCKE3D,\n",
    "    zcoord_type=\"height\",\n",
    "    lon_name=models[model_key][\"lon\"],\n",
    "    lat_name=models[model_key][\"lat\"],\n",
    "    z_name=models[model_key][\"lev\"],\n",
    "    cmpnt=\"dry\",\n",
    "    c_p=cp,\n",
    "    gravity=gplanet,\n",
    "    latent_heat=latent_heat,\n",
    "    r_planet=Rplanet,\n",
    ")"
   ]
  },
  {
   "cell_type": "code",
   "execution_count": 13,
   "metadata": {},
   "outputs": [
    {
     "data": {
      "text/plain": [
       "[<matplotlib.lines.Line2D at 0x7fef2c5103d0>]"
      ]
     },
     "execution_count": 13,
     "metadata": {},
     "output_type": "execute_result"
    },
    {
     "data": {
      "image/png": "[encoded data removed]",
      "text/plain": [
       "<Figure size 432x288 with 1 Axes>"
      ]
     },
     "metadata": {
      "needs_background": "light"
     },
     "output_type": "display_data"
    }
   ],
   "source": [
    "dse_hdiv_int_ROCKE3D.mean(models[model_key][\"time\"]).plot()"
   ]
  },
  {
   "cell_type": "markdown",
   "metadata": {},
   "source": [
    "### UM"
   ]
  },
  {
   "cell_type": "code",
   "execution_count": 14,
   "metadata": {},
   "outputs": [],
   "source": [
    "# Prepare variables\n",
    "model_key = \"UM\"\n",
    "ds = datasets[THAI_case][model_key].isel(\n",
    "    **{\n",
    "        # Choose only the last chunk for now\n",
    "        models[model_key][\"time\"]: slice(None, None),\n",
    "        # Discard rows close to poles\n",
    "        models[model_key][\"lat\"]: slice(1, -1),\n",
    "        # Discard upper atmosphere levels\n",
    "        #         models[model_key][\"lev\"]: slice(None, -5),\n",
    "    }\n",
    ")\n",
    "temp_UM = ds.STASH_m01s16i004\n",
    "u_UM = ds.STASH_m01s00i002\n",
    "v_UM = ds.STASH_m01s00i003\n",
    "press_UM = ds.STASH_m01s00i408\n",
    "# q_UM = ds.STASH_m01s00i010\n",
    "alt_UM = ds.thlev_zsea_theta\n",
    "rho_UM = press_UM / (rgas * temp_UM)"
   ]
  },
  {
   "cell_type": "code",
   "execution_count": 15,
   "metadata": {},
   "outputs": [],
   "source": [
    "(dse_hdiv_int_UM,) = vert_mer_mean_of_mse_flux(\n",
    "    u_UM,\n",
    "    v_UM,\n",
    "    temp=temp_UM,\n",
    "    alt=alt_UM,\n",
    "    rho=rho_UM,\n",
    "    zcoord_type=\"height\",\n",
    "    lon_name=models[model_key][\"lon\"],\n",
    "    lat_name=models[model_key][\"lat\"],\n",
    "    z_name=models[model_key][\"lev\"],\n",
    "    cmpnt=\"dry\",\n",
    "    c_p=cp,\n",
    "    gravity=gplanet,\n",
    "    latent_heat=latent_heat,\n",
    "    r_planet=Rplanet,\n",
    ")"
   ]
  },
  {
   "cell_type": "code",
   "execution_count": 16,
   "metadata": {},
   "outputs": [
    {
     "data": {
      "text/plain": [
       "[<matplotlib.lines.Line2D at 0x7fef2c464220>]"
      ]
     },
     "execution_count": 16,
     "metadata": {},
     "output_type": "execute_result"
    },
    {
     "data": {
      "image/png": "[encoded data removed]",
      "text/plain": [
       "<Figure size 432x288 with 1 Axes>"
      ]
     },
     "metadata": {
      "needs_background": "light"
     },
     "output_type": "display_data"
    }
   ],
   "source": [
    "dse_hdiv_int_UM.mean(models[model_key][\"time\"]).plot()"
   ]
  }
 ],
 "metadata": {
  "kernelspec": {
   "display_name": "Python 3",
   "language": "python",
   "name": "python3"
  },
  "language_info": {
   "codemirror_mode": {
    "name": "ipython",
    "version": 3
   },
   "file_extension": ".py",
   "mimetype": "text/x-python",
   "name": "python",
   "nbconvert_exporter": "python",
   "pygments_lexer": "ipython3",
   "version": "3.8.5"
  }
 },
 "nbformat": 4,
 "nbformat_minor": 4
}
