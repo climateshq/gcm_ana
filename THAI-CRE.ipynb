{
 "cells": [
  {
   "cell_type": "markdown",
   "id": "annoying-extreme",
   "metadata": {},
   "source": [
    "# Table 2.\n",
    "\n",
    "Global top-of-atmosphere shortwave ($CRE_{SW}$), longwave ($CRE_{LW}$), and total ($CRE$) cloud radiative effect ($W~m^{-2}$) in Hab1 and Hab2 simulations."
   ]
  },
  {
   "cell_type": "code",
   "execution_count": 2,
   "id": "shared-paragraph",
   "metadata": {},
   "outputs": [],
   "source": [
    "# Data analysis and viz libraries\n",
    "import pandas as pd\n",
    "import xarray as xr"
   ]
  },
  {
   "cell_type": "code",
   "execution_count": 3,
   "id": "sitting-disclaimer",
   "metadata": {},
   "outputs": [],
   "source": [
    "# Local modules\n",
    "import mypaths\n",
    "import names\n",
    "from calc import cre_toa, spatial_mean\n",
    "from load_thai import LOAD_CONF"
   ]
  },
  {
   "cell_type": "markdown",
   "id": "secondary-content",
   "metadata": {},
   "source": [
    "## Choose cases"
   ]
  },
  {
   "cell_type": "code",
   "execution_count": 4,
   "id": "biological-organ",
   "metadata": {},
   "outputs": [],
   "source": [
    "THAI_cases = [\"Hab1\", \"Hab2\"]"
   ]
  },
  {
   "cell_type": "markdown",
   "id": "explicit-parade",
   "metadata": {},
   "source": [
    "## Loading the data"
   ]
  },
  {
   "cell_type": "markdown",
   "id": "discrete-square",
   "metadata": {},
   "source": [
    "Load the time-averaged data previously preprocessed."
   ]
  },
  {
   "cell_type": "code",
   "execution_count": 5,
   "id": "hearing-companion",
   "metadata": {
    "tags": []
   },
   "outputs": [],
   "source": [
    "# Load data\n",
    "datasets = {}  # Create an empty dictionary to store all data\n",
    "# Loop over THAI cases (this loop can swapped places with the loop below if needed)\n",
    "for THAI_case in THAI_cases:\n",
    "    # for each of the THAI cases, create a nested directory for models\n",
    "    datasets[THAI_case] = {}\n",
    "    for model_key in LOAD_CONF.keys():\n",
    "        model_names = getattr(names, model_key.lower())\n",
    "        datasets[THAI_case][model_key] = xr.open_dataset(\n",
    "            mypaths.datadir / model_key / f\"{THAI_case}_regridded_time_mean_{model_key}.nc\"\n",
    "        )\n",
    "        # datasets[THAI_case][model_key] = LOAD_CONF[model_key][\"loader\"](THAI_case)"
   ]
  },
  {
   "cell_type": "code",
   "execution_count": 6,
   "id": "intermediate-journal",
   "metadata": {},
   "outputs": [],
   "source": [
    "diags = {\n",
    "    \"$CRE_{SW}$\": lambda ds, model_key: cre_toa(ds, model_key, kind=\"sw\"),\n",
    "    \"$CRE_{LW}$\": lambda ds, model_key: cre_toa(ds, model_key, kind=\"lw\"),\n",
    "    \"$CRE$\": lambda ds, model_key: cre_toa(ds, model_key, kind=\"total\"),\n",
    "}"
   ]
  },
  {
   "cell_type": "code",
   "execution_count": 7,
   "id": "aware-marine",
   "metadata": {},
   "outputs": [],
   "source": [
    "results = {}\n",
    "for THAI_case in THAI_cases:\n",
    "    dfs = {}\n",
    "    for model_key in LOAD_CONF.keys():\n",
    "        _data = {}\n",
    "        for vrbl, _calc in diags.items():\n",
    "            _data[vrbl] = float(\n",
    "                spatial_mean(_calc(datasets[THAI_case][model_key], model_key)).values\n",
    "            )\n",
    "        dfs[model_key] = pd.DataFrame(\n",
    "            _data, index=pd.Index(name=\"GCM\", data=[model_key])\n",
    "        )\n",
    "    results[THAI_case] = pd.concat(dfs, axis=\"index\").droplevel(0).T\n",
    "df = pd.concat(results).T"
   ]
  },
  {
   "cell_type": "code",
   "execution_count": 8,
   "id": "injured-album",
   "metadata": {},
   "outputs": [
    {
     "name": "stdout",
     "output_type": "stream",
     "text": [
      "\\begin{tabular}{lcccccc}\n",
      "\\toprule\n",
      "{} & \\multicolumn{3}{l}{Hab1} & \\multicolumn{3}{l}{Hab2} \\\\\n",
      "{} & $CRE_{SW}$ & $CRE_{LW}$ & $CRE$ & $CRE_{SW}$ & $CRE_{LW}$ & $CRE$ \\\\\n",
      "GCM     &            &            &       &            &            &       \\\\\n",
      "\\midrule\n",
      "ExoCAM  &      -37.3 &       15.2 & -22.1 &      -21.7 &       13.1 &  -8.6 \\\\\n",
      "LMDG    &      -21.5 &        5.0 & -16.5 &      -31.8 &        3.2 & -28.6 \\\\\n",
      "ROCKE3D &      -44.5 &        9.3 & -35.2 &      -35.0 &        8.6 & -26.4 \\\\\n",
      "UM      &      -48.1 &       10.1 & -38.0 &      -27.3 &        8.3 & -19.0 \\\\\n",
      "\\bottomrule\n",
      "\\end{tabular}\n",
      "\n"
     ]
    }
   ],
   "source": [
    "print(\n",
    "    df.to_latex(\n",
    "        formatters={k: lambda x: f\"{x:.1f}\" for k in df.columns},\n",
    "        column_format=\"l\" + \"c\" * len(diags) * len(THAI_cases),\n",
    "        escape=False,\n",
    "    )\n",
    ")"
   ]
  }
 ],
 "metadata": {
  "kernelspec": {
   "display_name": "Python [conda env:thai]",
   "language": "python",
   "name": "conda-env-thai-py"
  },
  "language_info": {
   "codemirror_mode": {
    "name": "ipython",
    "version": 3
   },
   "file_extension": ".py",
   "mimetype": "text/x-python",
   "name": "python",
   "nbconvert_exporter": "python",
   "pygments_lexer": "ipython3",
   "version": "3.9.2"
  }
 },
 "nbformat": 4,
 "nbformat_minor": 5
}
