{
 "cells": [
  {
   "cell_type": "markdown",
   "id": "annoying-extreme",
   "metadata": {},
   "source": [
    "# Table 2.\n",
    "\n",
    "Global top-of-atmosphere shortwave ($CRE_{SW}$), longwave ($CRE_{LW}$), and total ($CRE$) cloud radiative effect ($W~m^{-2}$) in Hab1 and Hab2 simulations."
   ]
  },
  {
   "cell_type": "code",
   "execution_count": 1,
   "id": "shared-paragraph",
   "metadata": {},
   "outputs": [],
   "source": [
    "# Data analysis and viz libraries\n",
    "import pandas as pd\n",
    "import xarray as xr"
   ]
  },
  {
   "cell_type": "code",
   "execution_count": 2,
   "id": "sitting-disclaimer",
   "metadata": {},
   "outputs": [],
   "source": [
    "# Local modules\n",
    "import mypaths\n",
    "from names import names\n",
    "from calc import bond_albedo, greenhouse_effect, cre_toa, spatial_mean\n",
    "from load_thai import LOAD_CONF"
   ]
  },
  {
   "cell_type": "markdown",
   "id": "secondary-content",
   "metadata": {},
   "source": [
    "## Choose cases"
   ]
  },
  {
   "cell_type": "code",
   "execution_count": 3,
   "id": "biological-organ",
   "metadata": {},
   "outputs": [],
   "source": [
    "THAI_cases = [\"Hab1\", \"Hab2\"]"
   ]
  },
  {
   "cell_type": "markdown",
   "id": "explicit-parade",
   "metadata": {},
   "source": [
    "## Loading the data"
   ]
  },
  {
   "cell_type": "markdown",
   "id": "discrete-square",
   "metadata": {},
   "source": [
    "Load the time-averaged data previously preprocessed."
   ]
  },
  {
   "cell_type": "code",
   "execution_count": 4,
   "id": "hearing-companion",
   "metadata": {
    "tags": []
   },
   "outputs": [],
   "source": [
    "# Load data\n",
    "datasets = {}  # Create an empty dictionary to store all data\n",
    "# Loop over THAI cases (this loop can swapped places with the loop below if needed)\n",
    "for THAI_case in THAI_cases:\n",
    "    # for each of the THAI cases, create a nested directory for models\n",
    "    datasets[THAI_case] = {}\n",
    "    for model_key in LOAD_CONF.keys():\n",
    "        datasets[THAI_case][model_key] = xr.open_dataset(\n",
    "            mypaths.datadir / model_key / f\"{THAI_case}_regridded_time_mean_{model_key}.nc\"\n",
    "        )\n",
    "        # datasets[THAI_case][model_key] = LOAD_CONF[model_key][\"loader\"](THAI_case)"
   ]
  },
  {
   "cell_type": "code",
   "execution_count": 5,
   "id": "intermediate-journal",
   "metadata": {},
   "outputs": [],
   "source": [
    "diags = {\n",
    "    \"cre_sw\": {\n",
    "        \"func\": lambda ds, model_key: cre_toa(ds, model_key, kind=\"sw\"),\n",
    "        \"fmt\": lambda x: f\"{x:.1f}\",\n",
    "        \"title\": r\"$CRE_{SW}$\",\n",
    "    },\n",
    "    \"cre_lw\": {\n",
    "        \"func\": lambda ds, model_key: cre_toa(ds, model_key, kind=\"lw\"),\n",
    "        \"fmt\": lambda x: f\"{x:.1f}\",\n",
    "        \"title\": r\"$CRE_{LW}$\",\n",
    "    },\n",
    "    \"cre_tot\": {\n",
    "        \"func\": lambda ds, model_key: cre_toa(ds, model_key, kind=\"total\"),\n",
    "        \"fmt\": lambda x: f\"{x:.1f}\",\n",
    "        \"title\": r\"$CRE$\",\n",
    "    },\n",
    "    \"alb\": {\"func\": bond_albedo, \"fmt\": lambda x: f\"{x:.2f}\", \"title\": r\"$\\alpha_p$\"},\n",
    "    \"ghe_as\": {\n",
    "        \"func\": lambda ds, model_key, const: greenhouse_effect(\n",
    "            ds, model_key, const, kind=\"all_sky\"\n",
    "        ),\n",
    "        \"fmt\": lambda x: f\"{x:.1f}\",\n",
    "        \"title\": r\"$G_{as}$\",\n",
    "    },\n",
    "    \"ghe_cs\": {\n",
    "        \"func\": lambda ds, model_key, const: greenhouse_effect(\n",
    "            ds, model_key, const, kind=\"clear_sky\"\n",
    "        ),\n",
    "        \"fmt\": lambda x: f\"{x:.1f}\",\n",
    "        \"title\": r\"$G_{cs}$\",\n",
    "    },\n",
    "}"
   ]
  },
  {
   "cell_type": "code",
   "execution_count": 6,
   "id": "aware-marine",
   "metadata": {},
   "outputs": [],
   "source": [
    "results = {}\n",
    "for THAI_case in THAI_cases:\n",
    "    if THAI_case.endswith(\"1\"):\n",
    "        import const_ben1_hab1 as const\n",
    "    else:\n",
    "        import const_ben2_hab2 as const\n",
    "    dfs = {}\n",
    "    for model_key in LOAD_CONF.keys():\n",
    "        _data = {}\n",
    "        for varkey, vardict in diags.items():\n",
    "            if varkey in [\"ghe_cs\", \"ghe_as\"]:\n",
    "                args = [const]\n",
    "            else:\n",
    "                args = []\n",
    "            _data[vardict[\"title\"]] = float(\n",
    "                spatial_mean(\n",
    "                    vardict[\"func\"](datasets[THAI_case][model_key], model_key, *args),\n",
    "                    names[model_key].x,\n",
    "                    names[model_key].y,\n",
    "                ).values\n",
    "            )\n",
    "        dfs[model_key] = pd.DataFrame(\n",
    "            _data, index=pd.Index(name=\"GCM\", data=[model_key])\n",
    "        )\n",
    "    results[THAI_case] = pd.concat(dfs, axis=\"index\").droplevel(0).T\n",
    "df = pd.concat(results).T"
   ]
  },
  {
   "cell_type": "code",
   "execution_count": 7,
   "id": "a12c3542-29b5-44d0-8374-2e24c8622350",
   "metadata": {},
   "outputs": [
    {
     "data": {
      "text/html": [
       "<div>\n",
       "<style scoped>\n",
       "    .dataframe tbody tr th:only-of-type {\n",
       "        vertical-align: middle;\n",
       "    }\n",
       "\n",
       "    .dataframe tbody tr th {\n",
       "        vertical-align: top;\n",
       "    }\n",
       "\n",
       "    .dataframe thead tr th {\n",
       "        text-align: left;\n",
       "    }\n",
       "\n",
       "    .dataframe thead tr:last-of-type th {\n",
       "        text-align: right;\n",
       "    }\n",
       "</style>\n",
       "<table border=\"1\" class=\"dataframe\">\n",
       "  <thead>\n",
       "    <tr>\n",
       "      <th></th>\n",
       "      <th colspan=\"6\" halign=\"left\">Hab1</th>\n",
       "      <th colspan=\"6\" halign=\"left\">Hab2</th>\n",
       "    </tr>\n",
       "    <tr>\n",
       "      <th></th>\n",
       "      <th>$CRE_{SW}$</th>\n",
       "      <th>$CRE_{LW}$</th>\n",
       "      <th>$CRE$</th>\n",
       "      <th>$\\alpha_p$</th>\n",
       "      <th>$G_{as}$</th>\n",
       "      <th>$G_{cs}$</th>\n",
       "      <th>$CRE_{SW}$</th>\n",
       "      <th>$CRE_{LW}$</th>\n",
       "      <th>$CRE$</th>\n",
       "      <th>$\\alpha_p$</th>\n",
       "      <th>$G_{as}$</th>\n",
       "      <th>$G_{cs}$</th>\n",
       "    </tr>\n",
       "    <tr>\n",
       "      <th>GCM</th>\n",
       "      <th></th>\n",
       "      <th></th>\n",
       "      <th></th>\n",
       "      <th></th>\n",
       "      <th></th>\n",
       "      <th></th>\n",
       "      <th></th>\n",
       "      <th></th>\n",
       "      <th></th>\n",
       "      <th></th>\n",
       "      <th></th>\n",
       "      <th></th>\n",
       "    </tr>\n",
       "  </thead>\n",
       "  <tbody>\n",
       "    <tr>\n",
       "      <th>ExoCAM</th>\n",
       "      <td>-37.324125</td>\n",
       "      <td>15.219436</td>\n",
       "      <td>-22.104689</td>\n",
       "      <td>0.241737</td>\n",
       "      <td>10.051711</td>\n",
       "      <td>5.598415</td>\n",
       "      <td>-21.689450</td>\n",
       "      <td>13.124007</td>\n",
       "      <td>-8.565443</td>\n",
       "      <td>0.153784</td>\n",
       "      <td>52.833456</td>\n",
       "      <td>48.794599</td>\n",
       "    </tr>\n",
       "    <tr>\n",
       "      <th>LMDG</th>\n",
       "      <td>-21.520519</td>\n",
       "      <td>4.988985</td>\n",
       "      <td>-16.531534</td>\n",
       "      <td>0.218544</td>\n",
       "      <td>5.843514</td>\n",
       "      <td>4.590518</td>\n",
       "      <td>-31.820248</td>\n",
       "      <td>3.201599</td>\n",
       "      <td>-28.618649</td>\n",
       "      <td>0.212989</td>\n",
       "      <td>34.107985</td>\n",
       "      <td>33.062221</td>\n",
       "    </tr>\n",
       "    <tr>\n",
       "      <th>ROCKE3D</th>\n",
       "      <td>-44.545721</td>\n",
       "      <td>9.301546</td>\n",
       "      <td>-35.244175</td>\n",
       "      <td>0.274411</td>\n",
       "      <td>9.328334</td>\n",
       "      <td>6.661019</td>\n",
       "      <td>-34.961858</td>\n",
       "      <td>8.598856</td>\n",
       "      <td>-26.363002</td>\n",
       "      <td>0.187658</td>\n",
       "      <td>44.677686</td>\n",
       "      <td>41.927532</td>\n",
       "    </tr>\n",
       "    <tr>\n",
       "      <th>UM</th>\n",
       "      <td>-48.096010</td>\n",
       "      <td>10.114035</td>\n",
       "      <td>-37.981976</td>\n",
       "      <td>0.281368</td>\n",
       "      <td>2.575571</td>\n",
       "      <td>-0.013824</td>\n",
       "      <td>-27.340366</td>\n",
       "      <td>8.303770</td>\n",
       "      <td>-19.036597</td>\n",
       "      <td>0.160655</td>\n",
       "      <td>39.087843</td>\n",
       "      <td>36.498985</td>\n",
       "    </tr>\n",
       "  </tbody>\n",
       "</table>\n",
       "</div>"
      ],
      "text/plain": [
       "              Hab1                                                        \\\n",
       "        $CRE_{SW}$ $CRE_{LW}$      $CRE$ $\\alpha_p$   $G_{as}$  $G_{cs}$   \n",
       "GCM                                                                        \n",
       "ExoCAM  -37.324125  15.219436 -22.104689   0.241737  10.051711  5.598415   \n",
       "LMDG    -21.520519   4.988985 -16.531534   0.218544   5.843514  4.590518   \n",
       "ROCKE3D -44.545721   9.301546 -35.244175   0.274411   9.328334  6.661019   \n",
       "UM      -48.096010  10.114035 -37.981976   0.281368   2.575571 -0.013824   \n",
       "\n",
       "              Hab2                                                         \n",
       "        $CRE_{SW}$ $CRE_{LW}$      $CRE$ $\\alpha_p$   $G_{as}$   $G_{cs}$  \n",
       "GCM                                                                        \n",
       "ExoCAM  -21.689450  13.124007  -8.565443   0.153784  52.833456  48.794599  \n",
       "LMDG    -31.820248   3.201599 -28.618649   0.212989  34.107985  33.062221  \n",
       "ROCKE3D -34.961858   8.598856 -26.363002   0.187658  44.677686  41.927532  \n",
       "UM      -27.340366   8.303770 -19.036597   0.160655  39.087843  36.498985  "
      ]
     },
     "execution_count": 7,
     "metadata": {},
     "output_type": "execute_result"
    }
   ],
   "source": [
    "df"
   ]
  },
  {
   "cell_type": "code",
   "execution_count": 8,
   "id": "injured-album",
   "metadata": {},
   "outputs": [
    {
     "name": "stdout",
     "output_type": "stream",
     "text": [
      "\\begin{tabular}{lcccccccccccc}\n",
      "\\toprule\n",
      "{} & \\multicolumn{6}{l}{Hab1} & \\multicolumn{6}{l}{Hab2} \\\\\n",
      "{} & $CRE_{SW}$ & $CRE_{LW}$ & $CRE$ & $\\alpha_p$ & $G_{as}$ & $G_{cs}$ & $CRE_{SW}$ & $CRE_{LW}$ & $CRE$ & $\\alpha_p$ & $G_{as}$ & $G_{cs}$ \\\\\n",
      "GCM     &            &            &       &            &          &          &            &            &       &            &          &          \\\\\n",
      "\\midrule\n",
      "ExoCAM  &      -37.3 &       15.2 & -22.1 &       0.24 &     10.1 &      5.6 &      -21.7 &       13.1 &  -8.6 &       0.15 &     52.8 &     48.8 \\\\\n",
      "LMDG    &      -21.5 &        5.0 & -16.5 &       0.22 &      5.8 &      4.6 &      -31.8 &        3.2 & -28.6 &       0.21 &     34.1 &     33.1 \\\\\n",
      "ROCKE3D &      -44.5 &        9.3 & -35.2 &       0.27 &      9.3 &      6.7 &      -35.0 &        8.6 & -26.4 &       0.19 &     44.7 &     41.9 \\\\\n",
      "UM      &      -48.1 &       10.1 & -38.0 &       0.28 &      2.6 &     -0.0 &      -27.3 &        8.3 & -19.0 &       0.16 &     39.1 &     36.5 \\\\\n",
      "\\bottomrule\n",
      "\\end{tabular}\n",
      "\n"
     ]
    }
   ],
   "source": [
    "formatters = {k: {j[\"title\"]: j[\"fmt\"] for j in diags.values()}[k[1]] for k in df.columns}\n",
    "print(\n",
    "    df.to_latex(\n",
    "        formatters=formatters,\n",
    "        column_format=\"l\" + \"c\" * len(diags) * len(THAI_cases),\n",
    "        escape=False,\n",
    "    )\n",
    ")"
   ]
  }
 ],
 "metadata": {
  "kernelspec": {
   "display_name": "Python [conda env:thai]",
   "language": "python",
   "name": "conda-env-thai-py"
  },
  "language_info": {
   "codemirror_mode": {
    "name": "ipython",
    "version": 3
   },
   "file_extension": ".py",
   "mimetype": "text/x-python",
   "name": "python",
   "nbconvert_exporter": "python",
   "pygments_lexer": "ipython3",
   "version": "3.9.2"
  }
 },
 "nbformat": 4,
 "nbformat_minor": 5
}
