{
 "cells": [
  {
   "cell_type": "markdown",
   "id": "annoying-extreme",
   "metadata": {},
   "source": [
    "# Table 2.\n",
    "\n",
    "Global diagnostics of in Hab1 and Hab2 simulations."
   ]
  },
  {
   "cell_type": "code",
   "execution_count": 1,
   "id": "shared-paragraph",
   "metadata": {},
   "outputs": [],
   "source": [
    "# Data analysis and viz libraries\n",
    "import pandas as pd\n",
    "import xarray as xr"
   ]
  },
  {
   "cell_type": "code",
   "execution_count": 2,
   "id": "sitting-disclaimer",
   "metadata": {},
   "outputs": [],
   "source": [
    "# Local modules\n",
    "import mypaths\n",
    "from calc import (\n",
    "    INTERPOLATOR,\n",
    "    bond_albedo,\n",
    "    cre_toa,\n",
    "    greenhouse_effect,\n",
    "    sfc_temp,\n",
    "    spatial_mean,\n",
    "    upper_atm_vap_mean,\n",
    ")\n",
    "\n",
    "# from load_thai import LOAD_CONF\n",
    "from commons import MODELS\n",
    "from names import names"
   ]
  },
  {
   "cell_type": "markdown",
   "id": "secondary-content",
   "metadata": {},
   "source": [
    "## Choose cases"
   ]
  },
  {
   "cell_type": "code",
   "execution_count": 3,
   "id": "biological-organ",
   "metadata": {},
   "outputs": [],
   "source": [
    "THAI_cases = [\"Hab1\", \"Hab2\"]"
   ]
  },
  {
   "cell_type": "markdown",
   "id": "explicit-parade",
   "metadata": {
    "tags": []
   },
   "source": [
    "## Loading the data"
   ]
  },
  {
   "cell_type": "markdown",
   "id": "discrete-square",
   "metadata": {},
   "source": [
    "Load the time-averaged data previously preprocessed."
   ]
  },
  {
   "cell_type": "code",
   "execution_count": 4,
   "id": "hearing-companion",
   "metadata": {
    "tags": []
   },
   "outputs": [],
   "source": [
    "# Load data\n",
    "datasets = {}  # Create an empty dictionary to store all data\n",
    "# for each of the THAI cases, create a nested directory for models\n",
    "for THAI_case in THAI_cases:\n",
    "    datasets[THAI_case] = {}\n",
    "    for model_key in MODELS.keys():\n",
    "        model_names = names[model_key]\n",
    "        ds = xr.open_dataset(mypaths.datadir / model_key / f\"{THAI_case}_time_mean_{model_key}.nc\")\n",
    "        if model_key == \"LMDG\":  # CHANGE TO ONLY LMDG!!!!!!!!!!\n",
    "            lon_slice = slice(None, -1)  # omit the 180E longitude which is repeated\n",
    "        else:\n",
    "            lon_slice = slice(None, None)\n",
    "        new_ds = {}\n",
    "        for d in ds.data_vars:\n",
    "            vrbl = ds[d]\n",
    "            if model_names.x in ds[d].dims:\n",
    "                vrbl = vrbl.isel(**{model_names.x: lon_slice})\n",
    "            new_ds[d] = vrbl\n",
    "        datasets[THAI_case][model_key] = xr.Dataset(new_ds)\n",
    "    datasets[THAI_case][\"ExoCAM\"][names.exocam.lev].attrs.update(units=\"hPa\")\n",
    "    datasets[THAI_case][\"ROCKE3D\"][names.rocke3d.pres].attrs.update(units=\"hPa\")\n",
    "    datasets[THAI_case][\"ROCKE3D\"][names.rocke3d.lev].attrs.update(positive=\"up\", units=\"1\")"
   ]
  },
  {
   "cell_type": "code",
   "execution_count": 5,
   "id": "intermediate-journal",
   "metadata": {},
   "outputs": [],
   "source": [
    "diags = {\n",
    "    \"t_sfc\": {\n",
    "        \"func\": lambda ds, model_key, const: sfc_temp(ds, model_key, const),\n",
    "        \"fmt\": lambda x: f\"{x:.1f}\",\n",
    "        \"title\": r\"T\\textsubscript{s}\",\n",
    "    },\n",
    "    \"cre_sw\": {\n",
    "        \"func\": lambda ds, model_key: cre_toa(ds, model_key, kind=\"sw\"),\n",
    "        \"fmt\": lambda x: f\"{x:.1f}\",\n",
    "        \"title\": r\"CRE\\textsubscript{SW}\",\n",
    "    },\n",
    "    \"cre_lw\": {\n",
    "        \"func\": lambda ds, model_key: cre_toa(ds, model_key, kind=\"lw\"),\n",
    "        \"fmt\": lambda x: f\"{x:.1f}\",\n",
    "        \"title\": r\"CRE\\textsubscript{LW}\",\n",
    "    },\n",
    "    \"cre_tot\": {\n",
    "        \"func\": lambda ds, model_key: cre_toa(ds, model_key, kind=\"total\"),\n",
    "        \"fmt\": lambda x: f\"{x:.1f}\",\n",
    "        \"title\": r\"CRE\",\n",
    "    },\n",
    "    \"alb\": {\"func\": bond_albedo, \"fmt\": lambda x: f\"{x:.2f}\", \"title\": r\"$\\alpha_\\text{p}$\"},\n",
    "    \"ghe_as\": {\n",
    "        \"func\": lambda ds, model_key, const: greenhouse_effect(\n",
    "            ds, model_key, const, kind=\"all_sky\"\n",
    "        ),\n",
    "        \"fmt\": lambda x: f\"{x:.1f}\",\n",
    "        \"title\": r\"G\\textsubscript{as}\",\n",
    "    },\n",
    "    \"ghe_cs\": {\n",
    "        \"func\": lambda ds, model_key, const: greenhouse_effect(\n",
    "            ds, model_key, const, kind=\"clear_sky\"\n",
    "        ),\n",
    "        \"fmt\": lambda x: f\"{x:.1f}\",\n",
    "        \"title\": r\"G\\textsubscript{cs}\",\n",
    "    },\n",
    "    \"vmr_1hpa\": {\n",
    "        \"func\": lambda ds, model_key, const: upper_atm_vap_mean(ds, model_key, const, [100]),\n",
    "        \"fmt\": lambda x: fr\"\\num{{{x:.1e}}}\",\n",
    "        \"title\": r\"VMR\\textsubscript{\\SI{1}{\\hecto\\pascal}}\",\n",
    "    },\n",
    "}"
   ]
  },
  {
   "cell_type": "code",
   "execution_count": 6,
   "id": "aware-marine",
   "metadata": {},
   "outputs": [],
   "source": [
    "results = {}\n",
    "for THAI_case in THAI_cases:\n",
    "    if THAI_case.endswith(\"1\"):\n",
    "        import const_ben1_hab1 as const\n",
    "    else:\n",
    "        import const_ben2_hab2 as const\n",
    "    dfs = {}\n",
    "    for model_key in MODELS.keys():\n",
    "        _data = {}\n",
    "        for varkey, vardict in diags.items():\n",
    "            if varkey in [\"t_sfc\", \"ghe_cs\", \"ghe_as\", \"vmr_1hpa\"]:\n",
    "                args = [const]\n",
    "            else:\n",
    "                args = []\n",
    "            _data[vardict[\"title\"]] = float(\n",
    "                spatial_mean(\n",
    "                    vardict[\"func\"](datasets[THAI_case][model_key], model_key, *args),\n",
    "                    names[model_key].x,\n",
    "                    names[model_key].y,\n",
    "                ).values\n",
    "            )\n",
    "        dfs[model_key] = pd.DataFrame(_data, index=pd.Index(name=\"GCM\", data=[model_key]))\n",
    "    results[THAI_case] = pd.concat(dfs, axis=\"index\").droplevel(0).T\n",
    "# df = pd.concat(results).T"
   ]
  },
  {
   "cell_type": "code",
   "execution_count": 7,
   "id": "injured-album",
   "metadata": {},
   "outputs": [
    {
     "name": "stdout",
     "output_type": "stream",
     "text": [
      "{} & \\multicolumn{8}{c}{Hab1} \\\\\n",
      "\n",
      "\\begin{tabular}{lcccccccc}\n",
      "\\toprule\n",
      "{} & T\\textsubscript{s} & CRE\\textsubscript{SW} & CRE\\textsubscript{LW} &   CRE & $\\alpha_\\text{p}$ & G\\textsubscript{as} & G\\textsubscript{cs} & VMR\\textsubscript{\\SI{1}{\\hecto\\pascal}} \\\\\n",
      "GCM     &       &          &          &       &      &        &        &   \\\\\n",
      "\\midrule\n",
      "ExoCAM  & 245.6 &    -37.9 &     15.5 & -22.4 & 0.24 &   10.3 &    5.8 &  \\num{4.6e-07} \\\\\n",
      "LMDG    & 242.2 &    -21.8 &      5.1 & -16.8 & 0.22 &    6.0 &    4.8 &  \\num{5.8e-08} \\\\\n",
      "ROCKE3D & 244.0 &    -44.6 &      9.3 & -35.3 & 0.27 &    9.3 &    6.7 &  \\num{5.1e-07} \\\\\n",
      "UM      & 231.6 &    -48.1 &     10.1 & -38.0 & 0.28 &    2.6 &   -0.0 &  \\num{5.1e-07} \\\\\n",
      "\\bottomrule\n",
      "\\end{tabular}\n",
      "\n",
      "{} & \\multicolumn{8}{c}{Hab2} \\\\\n",
      "\n",
      "\\begin{tabular}{lcccccccc}\n",
      "\\toprule\n",
      "{} & T\\textsubscript{s} & CRE\\textsubscript{SW} & CRE\\textsubscript{LW} &   CRE & $\\alpha_\\text{p}$ & G\\textsubscript{as} & G\\textsubscript{cs} & VMR\\textsubscript{\\SI{1}{\\hecto\\pascal}} \\\\\n",
      "GCM     &       &          &          &       &      &        &        &   \\\\\n",
      "\\midrule\n",
      "ExoCAM  & 295.2 &    -22.0 &     13.2 &  -8.8 & 0.15 &   53.0 &   48.9 &  \\num{1.5e-05} \\\\\n",
      "LMDG    & 270.9 &    -32.3 &      3.2 & -29.1 & 0.21 &   34.3 &   33.2 &  \\num{3.8e-06} \\\\\n",
      "ROCKE3D & 284.0 &    -35.0 &      8.6 & -26.4 & 0.19 &   44.7 &   41.9 &  \\num{4.5e-05} \\\\\n",
      "UM      & 280.4 &    -27.3 &      8.3 & -19.0 & 0.16 &   39.1 &   36.5 &  \\num{9.2e-06} \\\\\n",
      "\\bottomrule\n",
      "\\end{tabular}\n",
      "\n"
     ]
    }
   ],
   "source": [
    "for THAI_case in THAI_cases:\n",
    "    df = results[THAI_case].T\n",
    "    formatters = {k: {j[\"title\"]: j[\"fmt\"] for j in diags.values()}[k] for k in df.columns}\n",
    "    print(fr\"{{}} & \\multicolumn{{{len(diags)}}}{{c}}{{{THAI_case}}} \\\\\")\n",
    "    print()\n",
    "    print(\n",
    "        df.to_latex(\n",
    "            formatters=formatters,\n",
    "            column_format=\"l\" + \"c\" * len(diags),  # * len(THAI_cases)\n",
    "            escape=False,\n",
    "        ).replace(\" \" * 14, \" \")\n",
    "    )"
   ]
  }
 ],
 "metadata": {
  "kernelspec": {
   "display_name": "Python [conda env:thai]",
   "language": "python",
   "name": "conda-env-thai-py"
  },
  "language_info": {
   "codemirror_mode": {
    "name": "ipython",
    "version": 3
   },
   "file_extension": ".py",
   "mimetype": "text/x-python",
   "name": "python",
   "nbconvert_exporter": "python",
   "pygments_lexer": "ipython3",
   "version": "3.9.2"
  }
 },
 "nbformat": 4,
 "nbformat_minor": 5
}
