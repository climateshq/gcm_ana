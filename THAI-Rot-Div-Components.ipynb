{
 "cells": [
  {
   "cell_type": "markdown",
   "id": "bearing-warrior",
   "metadata": {},
   "source": [
    "# Rotational and divergent components"
   ]
  },
  {
   "cell_type": "code",
   "execution_count": null,
   "id": "fiscal-chair",
   "metadata": {},
   "outputs": [],
   "source": [
    "import warnings\n",
    "\n",
    "warnings.filterwarnings(\"ignore\")  # noqa"
   ]
  },
  {
   "cell_type": "code",
   "execution_count": null,
   "id": "freelance-telephone",
   "metadata": {},
   "outputs": [],
   "source": [
    "# Standard library\n",
    "import multiprocessing.popen_spawn_posix\n",
    "\n",
    "# Data analysis and viz libraries\n",
    "import dask\n",
    "import matplotlib.pyplot as plt\n",
    "import numpy as np\n",
    "import xarray as xr\n",
    "from dask.distributed import Client"
   ]
  },
  {
   "cell_type": "code",
   "execution_count": null,
   "id": "decreased-mercy",
   "metadata": {},
   "outputs": [],
   "source": [
    "# Local modules\n",
    "import mypaths\n",
    "import names\n",
    "from calc import (\n",
    "    wind_rot_div,\n",
    ")\n",
    "from grid import (\n",
    "    spatial_mean,\n",
    ")\n",
    "from load_thai import LOAD_CONF\n",
    "from model_exocam import calc_pres_exocam\n",
    "from plot_func import (\n",
    "    KW_AUX_TTL,\n",
    "    KW_AXGR,\n",
    "    KW_MAIN_TTL,\n",
    "    KW_SBPLT_LABEL,\n",
    "    draw_scalar,\n",
    "    draw_vector,\n",
    "    figsave,\n",
    "    linspace_pm1,\n",
    "    make_map_figure,\n",
    ")"
   ]
  },
  {
   "cell_type": "code",
   "execution_count": null,
   "id": "communist-support",
   "metadata": {},
   "outputs": [],
   "source": [
    "plt.style.use(\"paper.mplstyle\")"
   ]
  },
  {
   "cell_type": "code",
   "execution_count": null,
   "id": "theoretical-yorkshire",
   "metadata": {},
   "outputs": [],
   "source": [
    "# client = Client(processes=True, n_workers=4, threads_per_worker=1)\n",
    "# client"
   ]
  },
  {
   "cell_type": "markdown",
   "id": "cellular-drive",
   "metadata": {},
   "source": [
    "## Choose case"
   ]
  },
  {
   "cell_type": "code",
   "execution_count": null,
   "id": "radical-showcase",
   "metadata": {},
   "outputs": [],
   "source": [
    "THAI_case = \"Hab1\""
   ]
  },
  {
   "cell_type": "markdown",
   "id": "defensive-november",
   "metadata": {},
   "source": [
    "## Constants\n",
    "\n",
    "Define atmospheric and planetary constants. Note the planet's radius is in meters!"
   ]
  },
  {
   "cell_type": "code",
   "execution_count": null,
   "id": "quarterly-steps",
   "metadata": {},
   "outputs": [],
   "source": [
    "if THAI_case.endswith(\"1\"):\n",
    "    import const_ben1_hab1 as const\n",
    "else:\n",
    "    import const_ben2_hab2 as const"
   ]
  },
  {
   "cell_type": "markdown",
   "id": "korean-switch",
   "metadata": {},
   "source": [
    "## Loading the data"
   ]
  },
  {
   "cell_type": "markdown",
   "id": "endangered-attention",
   "metadata": {},
   "source": [
    "Lazily load all data into one dictionary."
   ]
  },
  {
   "cell_type": "code",
   "execution_count": null,
   "id": "tamil-legislation",
   "metadata": {
    "tags": []
   },
   "outputs": [],
   "source": [
    "# Load data\n",
    "datasets = {}  # Create an empty dictionary to store all data\n",
    "# Loop over THAI cases (this loop can swapped places with the loop below if needed)\n",
    "for THAI_case in [THAI_case]:\n",
    "    # for each of the THAI cases, create a nested directory for models\n",
    "    datasets[THAI_case] = {}\n",
    "    for model_key in LOAD_CONF.keys():\n",
    "        datasets[THAI_case][model_key] = LOAD_CONF[model_key][\"loader\"](THAI_case)"
   ]
  },
  {
   "cell_type": "markdown",
   "id": "german-elements",
   "metadata": {},
   "source": [
    "Regrid ExoCAM and ROCKE3D data to be compatible with `windspharm`: if latitudes are equally-spaced and even-numbered, they should not include poles."
   ]
  },
  {
   "cell_type": "code",
   "execution_count": null,
   "id": "needed-founder",
   "metadata": {},
   "outputs": [],
   "source": [
    "for model_key in [\"ExoCAM\", \"ROCKE3D\"]:\n",
    "    model_names = getattr(names, model_key.lower())\n",
    "    nlat = 50  # new number of latitudes: 50\n",
    "    delta_lat = 180 / nlat\n",
    "    new_lats = np.linspace(90 - 0.5 * delta_lat, -90 + 0.5 * delta_lat, nlat)\n",
    "    new_ds = {}\n",
    "    for d in datasets[THAI_case][model_key].data_vars:\n",
    "        vrbl = datasets[THAI_case][model_key][d]\n",
    "        if model_names.y in vrbl.dims:\n",
    "            new_ds[d] = vrbl.interp(\n",
    "                **{model_names.y: new_lats, \"kwargs\": {\"fill_value\": \"extrapolate\"}},\n",
    "            )\n",
    "        else:\n",
    "            new_ds[d] = vrbl\n",
    "    datasets[THAI_case][model_key] = xr.Dataset(new_ds)"
   ]
  },
  {
   "cell_type": "code",
   "execution_count": null,
   "id": "acoustic-shade",
   "metadata": {},
   "outputs": [],
   "source": [
    "wind_cmpnts = {}\n",
    "for model_key in LOAD_CONF.keys():\n",
    "    ds = datasets[THAI_case][model_key]\n",
    "    model_names = getattr(names, model_key.lower())\n",
    "    u_tm = ds[model_names.u].mean(model_names.t)\n",
    "    v_tm = ds[model_names.v].mean(model_names.t)\n",
    "\n",
    "    wind_cmpnts[model_key] = wind_rot_div(u_tm, v_tm, truncation=None, const=const)\n",
    "    if model_key == \"ExoCAM\":\n",
    "        # Approximately the pressure velocity (Pa/s) to the vertical wind velocity (m/s)\n",
    "        pres_ExoCAM = calc_pres_exocam(ds)\n",
    "        rho_ExoCAM = pres_ExoCAM / (const.rgas * ds.T)\n",
    "        wind_cmpnts[model_key][\"w\"] = (\n",
    "            ds[model_names.w] * (-1 / (const.gplanet * rho_ExoCAM))\n",
    "        ).mean(model_names.t)\n",
    "    elif model_key in [\"ROCKE3D\", \"LMDG\"]:\n",
    "        wind_cmpnts[model_key][\"w\"] = -1 * ds[model_names.w].mean(model_names.t)\n",
    "    else:\n",
    "        wind_cmpnts[model_key][\"w\"] = ds[model_names.w].mean(model_names.t)"
   ]
  },
  {
   "cell_type": "markdown",
   "id": "american-candle",
   "metadata": {},
   "source": [
    "## Diagnostics and plots"
   ]
  },
  {
   "cell_type": "code",
   "execution_count": null,
   "id": "cathedral-parker",
   "metadata": {},
   "outputs": [],
   "source": [
    "WIND_CMPNT_META = {\n",
    "    \"total\": {\"title\": \"Total\", \"qk_ref_wspd\": 30, \"kw_plt\": dict(color=\"#222222\")},\n",
    "    \"rot_zm\": {\n",
    "        \"title\": \"Zonal mean rotational\",\n",
    "        \"qk_ref_wspd\": 30,\n",
    "        \"kw_plt\": dict(color=\"C1\"),\n",
    "    },\n",
    "    \"rot_eddy\": {\n",
    "        \"title\": \"Eddy rotational\",\n",
    "        \"qk_ref_wspd\": 15,\n",
    "        \"kw_plt\": dict(color=\"C2\"),\n",
    "    },\n",
    "    \"div\": {\"title\": \"Divergent\", \"qk_ref_wspd\": 15, \"kw_plt\": dict(color=\"C0\")},\n",
    "}\n",
    "KW_QUIVER = dict(\n",
    "    scale_units=\"inches\",\n",
    "    scale=100,\n",
    "    cmap=\"magma_r\",\n",
    "    # facecolors=(\"#444444\"),\n",
    "    edgecolors=(\"#EEEEEE\"),\n",
    "    linewidths=0.15,\n",
    "    width=0.004,\n",
    "    headaxislength=4,\n",
    ")\n",
    "KW_QUIVERKEY = dict(\n",
    "    labelpos=\"N\",\n",
    "    labelsep=0.05,\n",
    "    coordinates=\"axes\",\n",
    "    color=\"#444444\",\n",
    "    fontproperties=dict(size=\"small\"),\n",
    ")\n",
    "KW_W_CNTRF = dict(cmap=\"RdBu_r\", levels=linspace_pm1(5) * 0.1, extend=\"both\")\n",
    "skips = {\n",
    "    \"ExoCAM\": (4, 3),\n",
    "    \"LMDG\": (4, 3),\n",
    "    \"ROCKE3D\": (4, 3),\n",
    "    \"UM\": (8, 6),\n",
    "}"
   ]
  },
  {
   "cell_type": "code",
   "execution_count": null,
   "id": "engaging-party",
   "metadata": {},
   "outputs": [],
   "source": [
    "P_LEVEL = 250\n",
    "height_constraints = {\n",
    "    \"Ben1\": {\n",
    "        \"ExoCAM\": dict({names.exocam.lev: P_LEVEL}, method=\"nearest\"),\n",
    "        \"LMDG\": dict({names.lmdg.z: 7}, method=\"nearest\"),\n",
    "        \"ROCKE3D\": dict({names.rocke3d.lev: 19}),\n",
    "        \"UM\": dict({names.um.z: 11_500}, method=\"nearest\"),\n",
    "    },\n",
    "    \"Ben2\": {\n",
    "        \"ExoCAM\": dict({names.exocam.lev: P_LEVEL}, method=\"nearest\"),\n",
    "        \"LMDG\": dict({names.lmdg.z: 7}, method=\"nearest\"),\n",
    "        \"ROCKE3D\": dict({names.rocke3d.lev: 20}),\n",
    "        \"UM\": dict({names.um.z: 7_000}, method=\"nearest\"),\n",
    "    },\n",
    "    \"Hab1\": {\n",
    "        \"ExoCAM\": dict({names.exocam.lev: P_LEVEL}, method=\"nearest\"),\n",
    "        \"LMDG\": dict({names.lmdg.z: 7}, method=\"nearest\"),\n",
    "        \"ROCKE3D\": dict({names.rocke3d.lev: 19}),\n",
    "        \"UM\": dict({names.um.z: 11_000}, method=\"nearest\"),\n",
    "    },\n",
    "    \"Hab2\": {\n",
    "        \"ExoCAM\": dict({names.exocam.lev: P_LEVEL}, method=\"nearest\"),\n",
    "        \"LMDG\": dict({names.lmdg.z: 7}, method=\"nearest\"),\n",
    "        \"ROCKE3D\": dict({names.rocke3d.lev: 20}),\n",
    "        \"UM\": dict({names.um.z: 7_000}, method=\"nearest\"),\n",
    "    },\n",
    "}"
   ]
  },
  {
   "cell_type": "code",
   "execution_count": null,
   "id": "organized-rings",
   "metadata": {
    "tags": []
   },
   "outputs": [],
   "source": [
    "%%time\n",
    "ncols = 4\n",
    "nrows = 4\n",
    "fig, axgr = make_map_figure(ncols, nrows, **KW_AXGR)\n",
    "# cbar_axes_col = np.array(axgr.cbar_axes).reshape((3, 2)).T\n",
    "cax = axgr.cbar_axes[0]\n",
    "fig.suptitle(\n",
    "    f\"{THAI_case}\\n~{P_LEVEL} hPa\",\n",
    "    y=0.925,\n",
    ")\n",
    "\n",
    "for model_key, axcol in zip(LOAD_CONF.keys(), axgr.axes_column):\n",
    "    model_names = getattr(names, model_key.lower())\n",
    "    lev_sel = height_constraints[THAI_case][model_key]\n",
    "    if model_key != \"ExoCAM\":\n",
    "        print(\n",
    "            model_key,\n",
    "            float(\n",
    "                spatial_mean(\n",
    "                    datasets[THAI_case][model_key][model_names.pres]\n",
    "                    .sel(**lev_sel)\n",
    "                    .mean(model_names.t)\n",
    "                )\n",
    "            ),\n",
    "        )\n",
    "    for ax, (wind_key, wind_meta) in zip(axcol, WIND_CMPNT_META.items()):\n",
    "        ax.set_title(wind_meta[\"title\"], **KW_MAIN_TTL)\n",
    "        ax.set_title(model_key, **KW_AUX_TTL)\n",
    "        draw_scalar(\n",
    "            wind_cmpnts[model_key][\"w\"].sel(**lev_sel),\n",
    "            ax,\n",
    "            method=\"contourf\",\n",
    "            cax=cax,\n",
    "            tex_units=\"$m$ $s^{-1}$\",\n",
    "            cbar_ticks=None,\n",
    "            use_cyclic=False,\n",
    "            model_names=model_names,\n",
    "            **KW_W_CNTRF,\n",
    "        )\n",
    "        u, v = (\n",
    "            wind_cmpnts[model_key][f\"u_{wind_key}\"].sel(**lev_sel),\n",
    "            wind_cmpnts[model_key][f\"v_{wind_key}\"].sel(**lev_sel),\n",
    "        )\n",
    "        _wspd = (u ** 2 + v) ** 0.5\n",
    "        QK_REF_WSPD = wind_meta[\"qk_ref_wspd\"]\n",
    "        _kw_quiv = {\n",
    "            **KW_QUIVER,\n",
    "            \"scale\": QK_REF_WSPD * 4,\n",
    "            \"norm\": plt.Normalize(0, QK_REF_WSPD),\n",
    "        }\n",
    "        draw_vector(\n",
    "            u,\n",
    "            v,\n",
    "            ax,\n",
    "            # cax=cax,\n",
    "            tex_units=\"$m$ $s^{-1}$\",\n",
    "            # cbar_ticks=None,\n",
    "            mag=(_wspd,),\n",
    "            xstride=skips[model_key][0],\n",
    "            ystride=skips[model_key][1],\n",
    "            qk_ref_wspd=QK_REF_WSPD,\n",
    "            kw_quiver=_kw_quiv,\n",
    "            kw_quiverkey=KW_QUIVERKEY,\n",
    "            model_names=model_names,\n",
    "            quiverkey_xy=(0.1, 0.935),\n",
    "        )"
   ]
  },
  {
   "cell_type": "code",
   "execution_count": null,
   "id": "flush-refrigerator",
   "metadata": {},
   "outputs": [],
   "source": [
    "figsave(\n",
    "    fig,\n",
    "    mypaths.plotdir / f\"{THAI_case}__rot_div_vert_wind_map__{int(P_LEVEL)}hpa\",\n",
    ")"
   ]
  },
  {
   "cell_type": "code",
   "execution_count": null,
   "id": "failing-lighting",
   "metadata": {},
   "outputs": [],
   "source": [
    "# model_key = \"UM\"\n",
    "# model_names = getattr(names, model_key.lower())\n",
    "# ds = datasets[THAI_case][model_key]\n",
    "# lon2d, lat2d = np.meshgrid(ds[model_names.x], ds[model_names.y])\n",
    "# lev_sel = dict({model_names.z: 11.5e3}, method=\"nearest\")"
   ]
  },
  {
   "cell_type": "code",
   "execution_count": null,
   "id": "sophisticated-pathology",
   "metadata": {},
   "outputs": [],
   "source": [
    "# %%time\n",
    "# ncols = 4\n",
    "# nrows = 4\n",
    "# fig, axgr = make_map_figure(ncols, nrows, **KW_AXGR)\n",
    "# # cbar_axes_col = np.array(axgr.cbar_axes).reshape((3, 2)).T\n",
    "# cax = axgr.cbar_axes[0]\n",
    "\n",
    "# for ax, (wind_key, wind_meta) in zip(axgr.axes_column, WIND_CMPNT_META.items()):\n",
    "#     ax.set_title(wind_meta[\"title\"], **KW_MAIN_TTL)\n",
    "#     ax.set_title(f\"({next(iletters)})\", **KW_SBPLT_LABEL)\n",
    "#     ax.set_ylim(-90, 90)\n",
    "#     ax.set_yticks(YLOCS)\n",
    "#     ax.set_yticklabels([fmt_lonlat(i, \"lat\", True) for i in YLOCS])\n",
    "#     ax.set_xlim(-180, 180)\n",
    "#     ax.set_xticks(XLOCS)\n",
    "#     ax.set_xticklabels([fmt_lonlat(i, \"lon\", True) for i in XLOCS])\n",
    "#     if ax.is_first_col():\n",
    "#         ax.set_ylabel(\"Latitude [$\\degree$]\")\n",
    "#     if ax.is_last_row():\n",
    "#         ax.set_xlabel(\"Longitude [$\\degree$]\")\n",
    "#     ax.contourf(\n",
    "#         lons.points,\n",
    "#         lats.points,\n",
    "#         w_plev.extract(lev_constr).data,\n",
    "#         cmap=cm.vik,\n",
    "#         levels=clev101(11) * 5e-2,\n",
    "#         extend=\"both\",\n",
    "#     )\n",
    "#     u, v = (\n",
    "#         wind_cmpnts[model_key][f\"u_{wind_key}\"].sel(**lev_sel),\n",
    "#         wind_cmpnts[model_key][f\"v_{wind_key}\"].sel(**lev_sel),\n",
    "#     )\n",
    "#     QK_REF_WSPD = wind_meta[\"qk_ref_wspd\"]\n",
    "#     _kw_quiv = {**KW_QUIVER, **{\"scale\": QK_REF_WSPD * 4}}\n",
    "#     quiv = ax.quiver(\n",
    "#         lon2d[SKIP], lat2d[SKIP],\n",
    "#         u[SKIP],\n",
    "#         v[SKIP],\n",
    "#         (u[SKIP] ** 2 + v[SKIP] ** 2) ** 0.5,\n",
    "#         norm=plt.Normalize(0, wind_meta[\"qk_ref_wspd\"]),\n",
    "#         **_kw_quiv,\n",
    "#     )\n",
    "#     qk = ax.quiverkey(\n",
    "#         quiv,\n",
    "#         *(0.125, 0.9),\n",
    "#         QK_REF_WSPD,\n",
    "#         fr\"${QK_REF_WSPD}$\" + r\" $m$ $s^{-1}$\",\n",
    "#         **KW_QUIVERKEY,\n",
    "#     )\n",
    "#     fig.colorbar(quiv, ax=ax)\n",
    "# fig.suptitle(\n",
    "#     f'{THAI_case}\\n{int(100500):d} hPa',\n",
    "#     y=0.95,\n",
    "# )"
   ]
  }
 ],
 "metadata": {
  "kernelspec": {
   "display_name": "Python [conda env:thai]",
   "language": "python",
   "name": "conda-env-thai-py"
  },
  "language_info": {
   "codemirror_mode": {
    "name": "ipython",
    "version": 3
   },
   "file_extension": ".py",
   "mimetype": "text/x-python",
   "name": "python",
   "nbconvert_exporter": "python",
   "pygments_lexer": "ipython3",
   "version": "3.9.2"
  }
 },
 "nbformat": 4,
 "nbformat_minor": 5
}
