{
 "cells": [
  {
   "cell_type": "markdown",
   "metadata": {},
   "source": [
    "# MSE flux in THAI experiments (early attempts)"
   ]
  },
  {
   "cell_type": "code",
   "execution_count": 1,
   "metadata": {},
   "outputs": [],
   "source": [
    "import warnings\n",
    "\n",
    "warnings.filterwarnings(\"ignore\")"
   ]
  },
  {
   "cell_type": "code",
   "execution_count": 2,
   "metadata": {},
   "outputs": [],
   "source": [
    "# Standard library\n",
    "from pathlib import Path\n",
    "\n",
    "# Data analysis and viz libraries\n",
    "import dask\n",
    "import dask.array as da\n",
    "import matplotlib.pyplot as plt\n",
    "import xarray as xr"
   ]
  },
  {
   "cell_type": "code",
   "execution_count": 3,
   "metadata": {},
   "outputs": [],
   "source": [
    "# Local modules\n",
    "from calc import (\n",
    "    hdiv,\n",
    "    integral,\n",
    "    mass_weighted_vertical_integral,\n",
    "    moist_static_energy,\n",
    "    vert_mer_mean_of_mse_flux,\n",
    ")\n",
    "from grid import (\n",
    "    EARTH_RADIUS,\n",
    "    meridional_mean,\n",
    "    reverse_along_dim,\n",
    "    roll_da_to_0360,\n",
    "    roll_da_to_pm180,\n",
    "    zonal_mean,\n",
    ")\n",
    "from load_thai import LOAD_CONF\n",
    "from model_exocam import calc_alt_exocam, calc_pres_exocam\n",
    "from model_lmdg import calc_alt_lmdg, calc_virtual_temp_lmdg\n",
    "from model_um import calc_um_ocean_frac\n",
    "from names import exocam, lmdg, rocke3d, um"
   ]
  },
  {
   "cell_type": "code",
   "execution_count": 4,
   "metadata": {},
   "outputs": [],
   "source": [
    "import mypaths"
   ]
  },
  {
   "cell_type": "markdown",
   "metadata": {},
   "source": [
    "## Choose case"
   ]
  },
  {
   "cell_type": "code",
   "execution_count": 5,
   "metadata": {},
   "outputs": [],
   "source": [
    "THAI_case = \"Ben1\""
   ]
  },
  {
   "cell_type": "markdown",
   "metadata": {},
   "source": [
    "## Constants\n",
    "\n",
    "Define atmospheric and planetary constants. Note the planet's radius is in meters!"
   ]
  },
  {
   "cell_type": "code",
   "execution_count": 6,
   "metadata": {},
   "outputs": [],
   "source": [
    "if THAI_case.endswith(\"1\"):\n",
    "    import const_ben1_hab1 as const\n",
    "else:\n",
    "    import const_ben2_hab2 as const"
   ]
  },
  {
   "cell_type": "markdown",
   "metadata": {},
   "source": [
    "## Loading the data"
   ]
  },
  {
   "cell_type": "markdown",
   "metadata": {},
   "source": [
    "Lazily load all data into one dictionary."
   ]
  },
  {
   "cell_type": "code",
   "execution_count": 7,
   "metadata": {
    "tags": []
   },
   "outputs": [],
   "source": [
    "# Load data\n",
    "datasets = {}  # Create an empty dictionary to store all data\n",
    "# Loop over THAI cases (this loop can swapped places with the loop below if needed)\n",
    "for THAI_case in [THAI_case]:\n",
    "    # for each of the THAI cases, create a nested directory for models\n",
    "    datasets[THAI_case] = {}\n",
    "    for model_key in LOAD_CONF.keys():\n",
    "        datasets[THAI_case][model_key] = LOAD_CONF[model_key][\"loader\"](THAI_case)"
   ]
  },
  {
   "cell_type": "markdown",
   "metadata": {},
   "source": [
    "## Diagnostics and plots"
   ]
  },
  {
   "cell_type": "markdown",
   "metadata": {},
   "source": [
    "### ExoCAM"
   ]
  },
  {
   "cell_type": "code",
   "execution_count": 8,
   "metadata": {},
   "outputs": [],
   "source": [
    "# Prepare variables\n",
    "model_key = \"ExoCAM\"\n",
    "ds = datasets[THAI_case][model_key].isel(\n",
    "    **{\n",
    "        # Choose only the last chunk for now\n",
    "        # exocam.t: slice(-61, None),\n",
    "        # Discard rows close to poles\n",
    "        exocam.y: slice(1, -1),\n",
    "        # (Optional, change 2nd None to turn it on) Discard upper atmosphere levels\n",
    "        exocam.lev: slice(None, None),\n",
    "        \"ilev\": slice(None, None),\n",
    "    }\n",
    ")\n",
    "temp_ExoCAM = ds.T\n",
    "press_ExoCAM = calc_pres_exocam(ds)\n",
    "rho_ExoCAM = press_ExoCAM / (const.rgas * temp_ExoCAM)\n",
    "u_ExoCAM = ds.U\n",
    "v_ExoCAM = ds.V\n",
    "q_ExoCAM = ds.Q\n",
    "alt_ExoCAM = calc_alt_exocam(\n",
    "    ds,\n",
    "    mw_ratio=const.mw_ratio,\n",
    "    dry_air_gas_constant=const.rgas,\n",
    "    condens_gas_constant=const.rvapor,\n",
    "    gravity=const.gplanet,\n",
    ")"
   ]
  },
  {
   "cell_type": "code",
   "execution_count": 9,
   "metadata": {},
   "outputs": [],
   "source": [
    "kw_const = dict(\n",
    "    c_p=const.c_p,\n",
    "    gravity=const.gplanet,\n",
    "    latent_heat=const.latent_heat,\n",
    "    r_planet=const.rplanet_m,\n",
    ")"
   ]
  },
  {
   "cell_type": "code",
   "execution_count": 10,
   "metadata": {},
   "outputs": [],
   "source": [
    "# mse_flx_hdiv_parts_by_press = vert_mer_mean_of_mse_flux(\n",
    "#     u_ExoCAM,\n",
    "#     v_ExoCAM,\n",
    "#     temp=temp_ExoCAM,\n",
    "#     alt=alt_ExoCAM,\n",
    "#     zcoord=press_ExoCAM,\n",
    "#     zcoord_type=\"pressure\",\n",
    "#     lon_name=exocam.x,\n",
    "#     lat_name=exocam.y,\n",
    "#     z_name=exocam.lev,\n",
    "#     cmpnt=\"dry\",\n",
    "#     **kw_const\n",
    "# )"
   ]
  },
  {
   "cell_type": "code",
   "execution_count": 17,
   "metadata": {},
   "outputs": [],
   "source": [
    "mse_flx_hdiv_parts_by_height = vert_mer_mean_of_mse_flux(\n",
    "    u_ExoCAM,\n",
    "    v_ExoCAM,\n",
    "    temp=temp_ExoCAM,\n",
    "    alt=alt_ExoCAM,\n",
    "    zcoord=press_ExoCAM,\n",
    "    rho=rho_ExoCAM,\n",
    "    zcoord_type=\"pressure\",\n",
    "    lon_name=exocam.x,\n",
    "    lat_name=exocam.y,\n",
    "    z_name=exocam.lev,\n",
    "    cmpnt=\"dry\",\n",
    "    opt=\"finite_diff\",\n",
    "    **kw_const\n",
    ")"
   ]
  },
  {
   "cell_type": "code",
   "execution_count": 18,
   "metadata": {},
   "outputs": [
    {
     "data": {
      "text/plain": [
       "<matplotlib.legend.Legend at 0x7fc597b04670>"
      ]
     },
     "execution_count": 18,
     "metadata": {},
     "output_type": "execute_result"
    },
    {
     "data": {
      "image/png": "[encoded data removed]",
      "text/plain": [
       "<Figure size 432x288 with 1 Axes>"
      ]
     },
     "metadata": {
      "needs_background": "light"
     },
     "output_type": "display_data"
    }
   ],
   "source": [
    "# mse_flx_hdiv_parts_by_press.dry.mean(exocam.t).plot(label=\"Using pressure\")\n",
    "mse_flx_hdiv_parts_by_height.dry.mean(exocam.t).plot(label=\"Using height\")\n",
    "plt.legend()"
   ]
  },
  {
   "cell_type": "markdown",
   "metadata": {},
   "source": [
    "## ROCKE3D"
   ]
  },
  {
   "cell_type": "code",
   "execution_count": 13,
   "metadata": {},
   "outputs": [],
   "source": [
    "model_key = \"ROCKE3D\"\n",
    "ds = datasets[THAI_case][model_key].isel(\n",
    "    **{\n",
    "        # Choose only the last chunk for now\n",
    "        rocke3d.t: slice(None, None),\n",
    "        # Discard rows close to poles\n",
    "        rocke3d.y: slice(1, -1),\n",
    "        # Discard upper atmosphere levels\n",
    "        rocke3d.lev: slice(None, None),\n",
    "    }\n",
    ")\n",
    "lat_ROCKE3D = ds[rocke3d.y]\n",
    "lon_ROCKE3D = ds[rocke3d.x]\n",
    "tsurf_ROCKE3D = ds.tgrnd + 273.15  # temperature in C\n",
    "ps_ROCKE3D = ds.p_surf\n",
    "\n",
    "\n",
    "temp_ROCKE3D = ds.t\n",
    "u_ROCKE3D = ds.u\n",
    "v_ROCKE3D = ds.v\n",
    "w_ROCKE3D = ds.w\n",
    "alt_ROCKE3D = ds.z\n",
    "press_ROCKE3D = ds.p_3d * 100  # (mb to Pa)\n",
    "rho_ROCKE3D = press_ROCKE3D / (const.rgas * temp_ROCKE3D)"
   ]
  },
  {
   "cell_type": "code",
   "execution_count": 14,
   "metadata": {},
   "outputs": [],
   "source": [
    "mse_flx_hdiv_parts = vert_mer_mean_of_mse_flux(\n",
    "    u_ROCKE3D,\n",
    "    v_ROCKE3D,\n",
    "    temp=temp_ROCKE3D,\n",
    "    alt=alt_ROCKE3D,\n",
    "    zcoord=alt_ROCKE3D,\n",
    "    rho=rho_ROCKE3D,\n",
    "    zcoord_type=\"height\",\n",
    "    lon_name=rocke3d.x,\n",
    "    lat_name=rocke3d.y,\n",
    "    z_name=rocke3d.lev,\n",
    "    cmpnt=\"dry\",\n",
    "    **kw_const\n",
    ")"
   ]
  },
  {
   "cell_type": "code",
   "execution_count": 15,
   "metadata": {},
   "outputs": [
    {
     "data": {
      "text/plain": [
       "[<matplotlib.lines.Line2D at 0x7f2ca6838460>]"
      ]
     },
     "execution_count": 15,
     "metadata": {},
     "output_type": "execute_result"
    },
    {
     "data": {
      "image/png": "[encoded data removed]",
      "text/plain": [
       "<Figure size 432x288 with 1 Axes>"
      ]
     },
     "metadata": {
      "needs_background": "light"
     },
     "output_type": "display_data"
    }
   ],
   "source": [
    "mse_flx_hdiv_parts.dry.mean(rocke3d.t).plot()"
   ]
  },
  {
   "cell_type": "markdown",
   "metadata": {},
   "source": [
    "### UM"
   ]
  },
  {
   "cell_type": "code",
   "execution_count": 16,
   "metadata": {},
   "outputs": [],
   "source": [
    "# Prepare variables\n",
    "model_key = \"UM\"\n",
    "ds = datasets[THAI_case][model_key].isel(\n",
    "    **{\n",
    "        # Choose only the last chunk for now\n",
    "        um.t: slice(None, None),\n",
    "        # Discard rows close to poles\n",
    "        um.y: slice(1, -1),\n",
    "        # Discard upper atmosphere levels\n",
    "        # um.z: slice(None, -5),\n",
    "    }\n",
    ")\n",
    "temp_UM = ds[um.temp]\n",
    "u_UM = ds[um.u]\n",
    "v_UM = ds[um.v]\n",
    "press_UM = ds[um.pres]\n",
    "# q_UM = ds[um.sh]\n",
    "alt_UM = ds[um.z]\n",
    "rho_UM = press_UM / (const.rgas * temp_UM)"
   ]
  },
  {
   "cell_type": "code",
   "execution_count": 19,
   "metadata": {},
   "outputs": [],
   "source": [
    "with dask.config.set(**{\"array.slicing.split_large_chunks\": False}):\n",
    "    mse_flx_hdiv_parts = vert_mer_mean_of_mse_flux(\n",
    "        u_UM,\n",
    "        v_UM,\n",
    "        temp=temp_UM,\n",
    "        alt=alt_UM,\n",
    "        rho=rho_UM,\n",
    "        zcoord_type=\"height\",\n",
    "        lon_name=um.x,\n",
    "        lat_name=um.y,\n",
    "        z_name=um.z,\n",
    "        cmpnt=\"dry\",\n",
    "        **kw_const\n",
    "    )"
   ]
  },
  {
   "cell_type": "code",
   "execution_count": 20,
   "metadata": {},
   "outputs": [
    {
     "data": {
      "text/plain": [
       "[<matplotlib.lines.Line2D at 0x7f2ca679a850>]"
      ]
     },
     "execution_count": 20,
     "metadata": {},
     "output_type": "execute_result"
    },
    {
     "data": {
      "image/png": "[encoded data removed]",
      "text/plain": [
       "<Figure size 432x288 with 1 Axes>"
      ]
     },
     "metadata": {
      "needs_background": "light"
     },
     "output_type": "display_data"
    }
   ],
   "source": [
    "mse_flx_hdiv_parts.dry.mean(um.t).plot()"
   ]
  }
 ],
 "metadata": {
  "kernelspec": {
   "display_name": "Python [conda env:thai]",
   "language": "python",
   "name": "conda-env-thai-py"
  },
  "language_info": {
   "codemirror_mode": {
    "name": "ipython",
    "version": 3
   },
   "file_extension": ".py",
   "mimetype": "text/x-python",
   "name": "python",
   "nbconvert_exporter": "python",
   "pygments_lexer": "ipython3",
   "version": "3.9.2"
  }
 },
 "nbformat": 4,
 "nbformat_minor": 4
}
